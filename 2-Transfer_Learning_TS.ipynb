{
  "nbformat": 4,
  "nbformat_minor": 0,
  "metadata": {
    "colab": {
      "provenance": []
    },
    "kernelspec": {
      "name": "python3",
      "display_name": "Python 3"
    },
    "language_info": {
      "name": "python"
    },
    "accelerator": "GPU",
    "gpuClass": "standard"
  },
  "cells": [
    {
      "cell_type": "markdown",
      "source": [
        "# Description\n",
        "Comparison of classification accuracy for three dog breeds - Golden Retriever, Norwegian Elkhound, and Siberian Husky - using both neural network training from scratch and transfer learning. The images used are part of the [stanford dogs dataset](https://www.kaggle.com/datasets/jessicali9530/stanford-dogs-dataset), which contains information on 120 dog breeds.\n",
        "## 1. Requeired imports"
      ],
      "metadata": {
        "id": "w1EOtigSYJxE"
      }
    },
    {
      "cell_type": "code",
      "execution_count": null,
      "metadata": {
        "id": "_lN_YNnSV6GW"
      },
      "outputs": [],
      "source": [
        "import numpy as np\n",
        "\n",
        "import torch\n",
        "import torch.optim as optim\n",
        "import torch.nn as nn\n",
        "import torchvision\n",
        "from torchvision import transforms, models\n",
        "from torch.utils.data import DataLoader\n",
        "\n",
        "from sklearn.metrics import confusion_matrix, ConfusionMatrixDisplay"
      ]
    },
    {
      "cell_type": "markdown",
      "source": [
        "## 2. Preparing data"
      ],
      "metadata": {
        "id": "4Xfaqn8fYYNY"
      }
    },
    {
      "cell_type": "markdown",
      "source": [
        "1. Checking if GPU is avalaible."
      ],
      "metadata": {
        "id": "RQv0uM7ZdLb5"
      }
    },
    {
      "cell_type": "code",
      "source": [
        "device = torch.device(\"cuda:0\" if torch.cuda.is_available() else \"cpu\")\n",
        "print(\"Running on:\", device)"
      ],
      "metadata": {
        "colab": {
          "base_uri": "https://localhost:8080/"
        },
        "id": "OT4DKqaxdOFS",
        "outputId": "013dccfb-95be-4afc-e071-75558609752d"
      },
      "execution_count": null,
      "outputs": [
        {
          "output_type": "stream",
          "name": "stdout",
          "text": [
            "Running on: cuda:0\n"
          ]
        }
      ]
    },
    {
      "cell_type": "markdown",
      "source": [
        "2. Defining transformations that will be applied to each given image."
      ],
      "metadata": {
        "id": "SjnMM0ZKZXN3"
      }
    },
    {
      "cell_type": "code",
      "source": [
        "transform = transforms.Compose([\n",
        "    transforms.Resize((224, 224)),\n",
        "    transforms.ToTensor(),\n",
        "    transforms.Normalize(mean=[0.485, 0.456, 0.406], std=[0.229, 0.224, 0.225]),\n",
        "])"
      ],
      "metadata": {
        "id": "HLqRuYW0YWFR"
      },
      "execution_count": null,
      "outputs": []
    },
    {
      "cell_type": "markdown",
      "source": [
        "3. Defining sizes of train, validation and test datasets."
      ],
      "metadata": {
        "id": "FhZiUnDvZdo4"
      }
    },
    {
      "cell_type": "code",
      "source": [
        "full_dataset = torchvision.datasets.ImageFolder(\n",
        "    root='/content/drive/MyDrive/Data/dogs/images',\n",
        "    transform=transform\n",
        ")\n",
        "\n",
        "labels = [label for _, label in full_dataset]\n",
        "\n",
        "train_ratio = 0.8\n",
        "val_ratio = 0.1\n",
        "test_ratio = 0.1\n",
        "\n",
        "total_size = len(full_dataset)\n",
        "train_size = int(train_ratio * total_size)\n",
        "val_size = int(val_ratio * total_size)\n",
        "test_size = total_size - train_size - val_size\n",
        "\n",
        "print(f'Total size: {total_size}, train size: {train_size}, val_size: {val_size}, test_size: {test_size}')"
      ],
      "metadata": {
        "colab": {
          "base_uri": "https://localhost:8080/"
        },
        "id": "ExeoBlpRYk9b",
        "outputId": "34537987-40e9-4faa-ffff-2f34422d4b7b"
      },
      "execution_count": null,
      "outputs": [
        {
          "output_type": "stream",
          "name": "stdout",
          "text": [
            "Total size: 538, train size: 430, val_size: 53, test_size: 55\n"
          ]
        }
      ]
    },
    {
      "cell_type": "markdown",
      "source": [
        "4. Splitting dataset randomly into train, validation and test datasets."
      ],
      "metadata": {
        "id": "eV7NIlDsZw27"
      }
    },
    {
      "cell_type": "code",
      "source": [
        "train_dataset, val_dataset, test_dataset = random_split(full_dataset, [train_size, val_size, test_size])\n",
        "\n",
        "batch_size = 16\n",
        "shuffle = True\n",
        "\n",
        "train_loader = DataLoader(train_dataset, batch_size=batch_size, shuffle=shuffle)\n",
        "val_loader = DataLoader(val_dataset, batch_size=batch_size, shuffle=shuffle)\n",
        "test_loader = DataLoader(test_dataset, batch_size=batch_size, shuffle=shuffle)"
      ],
      "metadata": {
        "id": "QbiIsm9mZQxZ"
      },
      "execution_count": null,
      "outputs": []
    },
    {
      "cell_type": "markdown",
      "source": [
        "## Creating Neural Network model from scratch\n",
        "1. Defining the model used for dog breed classification."
      ],
      "metadata": {
        "id": "XlYfhPtnaChl"
      }
    },
    {
      "cell_type": "code",
      "source": [
        "class DogClassifier(nn.Module):\n",
        "    def __init__(self):\n",
        "        super(DogClassifier, self).__init__()\n",
        "        \n",
        "        self.conv1 = nn.Conv2d(3, 32, kernel_size=3, stride=1, padding=1)\n",
        "        self.bn1 = nn.BatchNorm2d(32)\n",
        "        self.conv2 = nn.Conv2d(32, 64, kernel_size=3, stride=1, padding=1)\n",
        "        self.bn2 = nn.BatchNorm2d(64)\n",
        "        self.conv3 = nn.Conv2d(64, 128, kernel_size=3, stride=1, padding=1)\n",
        "        self.bn3 = nn.BatchNorm2d(128)\n",
        "        \n",
        "        self.pool = nn.MaxPool2d(kernel_size=2, stride=2)\n",
        "        self.dropout = nn.Dropout(p=0.5)\n",
        "        \n",
        "        self.fc1 = nn.Linear(128 * 28 * 28, 256)\n",
        "        self.fc2 = nn.Linear(256, 128)\n",
        "        self.fc3 = nn.Linear(128, 3)  # Change the output dimension to 3 for 3 classes\n",
        "\n",
        "    def forward(self, x):\n",
        "        x = self.pool(nn.functional.relu(self.bn1(self.conv1(x))))\n",
        "        x = self.pool(nn.functional.relu(self.bn2(self.conv2(x))))\n",
        "        x = self.pool(nn.functional.relu(self.bn3(self.conv3(x))))\n",
        "        \n",
        "        x = x.view(-1, 128 * 28 * 28)\n",
        "        x = self.dropout(x)\n",
        "        x = nn.functional.relu(self.fc1(x))\n",
        "        x = self.dropout(x)\n",
        "        x = nn.functional.relu(self.fc2(x))\n",
        "        x = self.fc3(x)\n",
        "        return x"
      ],
      "metadata": {
        "id": "wkcXYw1bZ8ti"
      },
      "execution_count": null,
      "outputs": []
    },
    {
      "cell_type": "markdown",
      "source": [
        "2. Initializing defined model."
      ],
      "metadata": {
        "id": "wa_wLQA5aNHO"
      }
    },
    {
      "cell_type": "code",
      "source": [
        "net = DogClassifier().to(device)\n",
        "\n",
        "criterion = torch.nn.CrossEntropyLoss()\n",
        "optimizer = torch.optim.SGD(net.parameters(), lr=0.001)"
      ],
      "metadata": {
        "id": "trNzTY1ZaIS0"
      },
      "execution_count": null,
      "outputs": []
    },
    {
      "cell_type": "markdown",
      "source": [
        "3. Training created model."
      ],
      "metadata": {
        "id": "oxyzInACaT18"
      }
    },
    {
      "cell_type": "code",
      "source": [
        "best_val_acc = 0.0  # Initialize the best validation accuracy\n",
        "patience = 5  # Number of epochs to wait for an improvement in validation accuracy\n",
        "epochs_since_improvement = 0  # Initialize the counter for epochs without improvement\n",
        "epoch = 0  # Initialize the epoch counter\n",
        "\n",
        "while epochs_since_improvement < patience:\n",
        "  epoch += 1  # Increment the epoch counter\n",
        "\n",
        "    # Training\n",
        "  net.train()\n",
        "  train_loss = 0\n",
        "  for i, (images, labels) in enumerate(train_loader):\n",
        "    images, labels = images.to(device), labels.to(device)\n",
        "\n",
        "    outputs = net(images)\n",
        "    loss = criterion(outputs, labels)\n",
        "\n",
        "    optimizer.zero_grad()\n",
        "    loss.backward()\n",
        "    optimizer.step()\n",
        "\n",
        "    train_loss += loss.item()\n",
        "\n",
        "  train_loss /= len(train_loader)\n",
        "\n",
        "  # Validation\n",
        "  net.eval()\n",
        "  val_loss = 0\n",
        "  correct = 0\n",
        "  total = 0\n",
        "  with torch.no_grad():\n",
        "    for images, labels in val_loader:\n",
        "      images, labels = images.to(device), labels.to(device)\n",
        "\n",
        "      outputs = net(images)\n",
        "      loss = criterion(outputs, labels)\n",
        "\n",
        "      val_loss += loss.item()\n",
        "\n",
        "      _, predicted = torch.max(outputs.data, 1)\n",
        "      total += labels.size(0)\n",
        "      correct += (predicted == labels).sum().item()\n",
        "  val_loss /= len(val_loader)\n",
        "  val_acc = 100 * correct / total\n",
        "\n",
        "  print('Epoch: {}, Train Loss: {:.4f}, Val Loss: {:.4f}, Val Accuracy: {:.2f}%, Best Val Accuracy: {:.2f}%'\n",
        "          .format(epoch, train_loss, val_loss, val_acc, best_val_acc))\n",
        "\n",
        "  # Check if validation accuracy has improved\n",
        "  if val_acc > best_val_acc:\n",
        "    best_val_acc = val_acc\n",
        "    epochs_since_improvement = 0\n",
        "  else:\n",
        "    epochs_since_improvement += 1"
      ],
      "metadata": {
        "colab": {
          "base_uri": "https://localhost:8080/"
        },
        "id": "0BTOZdsmaQKQ",
        "outputId": "f9248012-134f-473d-86ad-4deb963edc31"
      },
      "execution_count": null,
      "outputs": [
        {
          "output_type": "stream",
          "name": "stdout",
          "text": [
            "Epoch: 1, Train Loss: 1.0866, Val Loss: 1.0428, Val Accuracy: 39.62%, Best Val Accuracy: 0.00%\n",
            "Epoch: 2, Train Loss: 1.0077, Val Loss: 0.9670, Val Accuracy: 67.92%, Best Val Accuracy: 39.62%\n",
            "Epoch: 3, Train Loss: 0.9433, Val Loss: 0.8760, Val Accuracy: 75.47%, Best Val Accuracy: 67.92%\n",
            "Epoch: 4, Train Loss: 0.8528, Val Loss: 0.7691, Val Accuracy: 69.81%, Best Val Accuracy: 75.47%\n",
            "Epoch: 5, Train Loss: 0.8153, Val Loss: 0.7016, Val Accuracy: 71.70%, Best Val Accuracy: 75.47%\n",
            "Epoch: 6, Train Loss: 0.7753, Val Loss: 0.7883, Val Accuracy: 58.49%, Best Val Accuracy: 75.47%\n",
            "Epoch: 7, Train Loss: 0.6903, Val Loss: 0.7168, Val Accuracy: 66.04%, Best Val Accuracy: 75.47%\n",
            "Epoch: 8, Train Loss: 0.6311, Val Loss: 0.6055, Val Accuracy: 71.70%, Best Val Accuracy: 75.47%\n"
          ]
        }
      ]
    },
    {
      "cell_type": "markdown",
      "source": [
        "4. Evaluating trained model"
      ],
      "metadata": {
        "id": "KPkMeibZkBe0"
      }
    },
    {
      "cell_type": "code",
      "source": [
        "net.eval()\n",
        "test_correct = 0\n",
        "test_total = 0\n",
        "\n",
        "all_labels = np.array([], dtype=int)\n",
        "all_predictions = np.array([], dtype=int)\n",
        "\n",
        "with torch.no_grad():\n",
        "    for images, labels in test_loader:\n",
        "        images, labels = images.to(device), labels.to(device)\n",
        "\n",
        "        outputs = net(images)\n",
        "        _, predicted = torch.max(outputs.data, 1)\n",
        "        test_total += labels.size(0)\n",
        "        test_correct += (predicted == labels).sum().item()\n",
        "\n",
        "        # Move tensors back to CPU and convert to NumPy arrays\n",
        "        cpu_labels = labels.cpu().numpy()\n",
        "        cpu_predicted = predicted.cpu().numpy()\n",
        "\n",
        "        all_labels = np.concatenate((all_labels, cpu_labels))\n",
        "        all_predictions = np.concatenate((all_predictions, cpu_predicted))\n",
        "\n",
        "test_acc = 100 * test_correct / test_total\n",
        "print('Test Accuracy: {:.2f}%'.format(test_acc))\n",
        "\n",
        "# Compute and print the confusion matrix\n",
        "conf_matrix = confusion_matrix(all_labels, all_predictions)\n",
        "conf_matrix_display = ConfusionMatrixDisplay(conf_matrix)\n",
        "conf_matrix_display.plot()"
      ],
      "metadata": {
        "colab": {
          "base_uri": "https://localhost:8080/",
          "height": 484
        },
        "id": "lToEeFG6aWDN",
        "outputId": "d68d39ce-202b-44ab-bb64-6fb37ab04604"
      },
      "execution_count": null,
      "outputs": [
        {
          "output_type": "stream",
          "name": "stdout",
          "text": [
            "Test Accuracy: 72.73%\n"
          ]
        },
        {
          "output_type": "execute_result",
          "data": {
            "text/plain": [
              "<sklearn.metrics._plot.confusion_matrix.ConfusionMatrixDisplay at 0x7f56c7618e50>"
            ]
          },
          "metadata": {},
          "execution_count": 84
        },
        {
          "output_type": "display_data",
          "data": {
            "text/plain": [
              "<Figure size 640x480 with 2 Axes>"
            ],
            "image/png": "[encoded data removed]"
          },
          "metadata": {}
        }
      ]
    },
    {
      "cell_type": "markdown",
      "source": [
        "## 4. Using Transfer learning"
      ],
      "metadata": {
        "id": "AEuz6IJ0jMC6"
      }
    },
    {
      "cell_type": "markdown",
      "source": [
        "**Resnet18** is a convolutional neural network that is 18 layers deep. The network is trained on more than a million images from the ImageNet database. The pretrained network can classify images into 1000 object categories, such as keyboard, mouse, pencil, and many animals. As a result, the network has learned rich feature representations for a wide range of images. The network has an image input size of 224-by-224."
      ],
      "metadata": {
        "id": "12EeXi4uY8QJ"
      }
    },
    {
      "cell_type": "markdown",
      "source": [
        "1. Architecture of the Resnet18 model in PyTorch."
      ],
      "metadata": {
        "id": "niWN5lUbaXrp"
      }
    },
    {
      "cell_type": "code",
      "source": [
        "resnet18 = models.resnet18(weights=models.ResNet18_Weights.IMAGENET1K_V1)\n",
        "print(resnet18)"
      ],
      "metadata": {
        "colab": {
          "base_uri": "https://localhost:8080/"
        },
        "id": "wnvR9oTMaVMU",
        "outputId": "108fadc0-8d40-4dfd-8359-f2dc67b5948d"
      },
      "execution_count": null,
      "outputs": [
        {
          "output_type": "stream",
          "name": "stdout",
          "text": [
            "ResNet(\n",
            "  (conv1): Conv2d(3, 64, kernel_size=(7, 7), stride=(2, 2), padding=(3, 3), bias=False)\n",
            "  (bn1): BatchNorm2d(64, eps=1e-05, momentum=0.1, affine=True, track_running_stats=True)\n",
            "  (relu): ReLU(inplace=True)\n",
            "  (maxpool): MaxPool2d(kernel_size=3, stride=2, padding=1, dilation=1, ceil_mode=False)\n",
            "  (layer1): Sequential(\n",
            "    (0): BasicBlock(\n",
            "      (conv1): Conv2d(64, 64, kernel_size=(3, 3), stride=(1, 1), padding=(1, 1), bias=False)\n",
            "      (bn1): BatchNorm2d(64, eps=1e-05, momentum=0.1, affine=True, track_running_stats=True)\n",
            "      (relu): ReLU(inplace=True)\n",
            "      (conv2): Conv2d(64, 64, kernel_size=(3, 3), stride=(1, 1), padding=(1, 1), bias=False)\n",
            "      (bn2): BatchNorm2d(64, eps=1e-05, momentum=0.1, affine=True, track_running_stats=True)\n",
            "    )\n",
            "    (1): BasicBlock(\n",
            "      (conv1): Conv2d(64, 64, kernel_size=(3, 3), stride=(1, 1), padding=(1, 1), bias=False)\n",
            "      (bn1): BatchNorm2d(64, eps=1e-05, momentum=0.1, affine=True, track_running_stats=True)\n",
            "      (relu): ReLU(inplace=True)\n",
            "      (conv2): Conv2d(64, 64, kernel_size=(3, 3), stride=(1, 1), padding=(1, 1), bias=False)\n",
            "      (bn2): BatchNorm2d(64, eps=1e-05, momentum=0.1, affine=True, track_running_stats=True)\n",
            "    )\n",
            "  )\n",
            "  (layer2): Sequential(\n",
            "    (0): BasicBlock(\n",
            "      (conv1): Conv2d(64, 128, kernel_size=(3, 3), stride=(2, 2), padding=(1, 1), bias=False)\n",
            "      (bn1): BatchNorm2d(128, eps=1e-05, momentum=0.1, affine=True, track_running_stats=True)\n",
            "      (relu): ReLU(inplace=True)\n",
            "      (conv2): Conv2d(128, 128, kernel_size=(3, 3), stride=(1, 1), padding=(1, 1), bias=False)\n",
            "      (bn2): BatchNorm2d(128, eps=1e-05, momentum=0.1, affine=True, track_running_stats=True)\n",
            "      (downsample): Sequential(\n",
            "        (0): Conv2d(64, 128, kernel_size=(1, 1), stride=(2, 2), bias=False)\n",
            "        (1): BatchNorm2d(128, eps=1e-05, momentum=0.1, affine=True, track_running_stats=True)\n",
            "      )\n",
            "    )\n",
            "    (1): BasicBlock(\n",
            "      (conv1): Conv2d(128, 128, kernel_size=(3, 3), stride=(1, 1), padding=(1, 1), bias=False)\n",
            "      (bn1): BatchNorm2d(128, eps=1e-05, momentum=0.1, affine=True, track_running_stats=True)\n",
            "      (relu): ReLU(inplace=True)\n",
            "      (conv2): Conv2d(128, 128, kernel_size=(3, 3), stride=(1, 1), padding=(1, 1), bias=False)\n",
            "      (bn2): BatchNorm2d(128, eps=1e-05, momentum=0.1, affine=True, track_running_stats=True)\n",
            "    )\n",
            "  )\n",
            "  (layer3): Sequential(\n",
            "    (0): BasicBlock(\n",
            "      (conv1): Conv2d(128, 256, kernel_size=(3, 3), stride=(2, 2), padding=(1, 1), bias=False)\n",
            "      (bn1): BatchNorm2d(256, eps=1e-05, momentum=0.1, affine=True, track_running_stats=True)\n",
            "      (relu): ReLU(inplace=True)\n",
            "      (conv2): Conv2d(256, 256, kernel_size=(3, 3), stride=(1, 1), padding=(1, 1), bias=False)\n",
            "      (bn2): BatchNorm2d(256, eps=1e-05, momentum=0.1, affine=True, track_running_stats=True)\n",
            "      (downsample): Sequential(\n",
            "        (0): Conv2d(128, 256, kernel_size=(1, 1), stride=(2, 2), bias=False)\n",
            "        (1): BatchNorm2d(256, eps=1e-05, momentum=0.1, affine=True, track_running_stats=True)\n",
            "      )\n",
            "    )\n",
            "    (1): BasicBlock(\n",
            "      (conv1): Conv2d(256, 256, kernel_size=(3, 3), stride=(1, 1), padding=(1, 1), bias=False)\n",
            "      (bn1): BatchNorm2d(256, eps=1e-05, momentum=0.1, affine=True, track_running_stats=True)\n",
            "      (relu): ReLU(inplace=True)\n",
            "      (conv2): Conv2d(256, 256, kernel_size=(3, 3), stride=(1, 1), padding=(1, 1), bias=False)\n",
            "      (bn2): BatchNorm2d(256, eps=1e-05, momentum=0.1, affine=True, track_running_stats=True)\n",
            "    )\n",
            "  )\n",
            "  (layer4): Sequential(\n",
            "    (0): BasicBlock(\n",
            "      (conv1): Conv2d(256, 512, kernel_size=(3, 3), stride=(2, 2), padding=(1, 1), bias=False)\n",
            "      (bn1): BatchNorm2d(512, eps=1e-05, momentum=0.1, affine=True, track_running_stats=True)\n",
            "      (relu): ReLU(inplace=True)\n",
            "      (conv2): Conv2d(512, 512, kernel_size=(3, 3), stride=(1, 1), padding=(1, 1), bias=False)\n",
            "      (bn2): BatchNorm2d(512, eps=1e-05, momentum=0.1, affine=True, track_running_stats=True)\n",
            "      (downsample): Sequential(\n",
            "        (0): Conv2d(256, 512, kernel_size=(1, 1), stride=(2, 2), bias=False)\n",
            "        (1): BatchNorm2d(512, eps=1e-05, momentum=0.1, affine=True, track_running_stats=True)\n",
            "      )\n",
            "    )\n",
            "    (1): BasicBlock(\n",
            "      (conv1): Conv2d(512, 512, kernel_size=(3, 3), stride=(1, 1), padding=(1, 1), bias=False)\n",
            "      (bn1): BatchNorm2d(512, eps=1e-05, momentum=0.1, affine=True, track_running_stats=True)\n",
            "      (relu): ReLU(inplace=True)\n",
            "      (conv2): Conv2d(512, 512, kernel_size=(3, 3), stride=(1, 1), padding=(1, 1), bias=False)\n",
            "      (bn2): BatchNorm2d(512, eps=1e-05, momentum=0.1, affine=True, track_running_stats=True)\n",
            "    )\n",
            "  )\n",
            "  (avgpool): AdaptiveAvgPool2d(output_size=(1, 1))\n",
            "  (fc): Linear(in_features=512, out_features=1000, bias=True)\n",
            ")\n"
          ]
        }
      ]
    },
    {
      "cell_type": "markdown",
      "source": [
        "2. Initialize pre-trained model."
      ],
      "metadata": {
        "id": "FSPJJ5FdjbUc"
      }
    },
    {
      "cell_type": "code",
      "source": [
        "# Freeze all layers\n",
        "for param in resnet18.parameters():\n",
        "    param.requires_grad = False\n",
        "\n",
        "# Modify the last fully connected layer\n",
        "no_features = resnet18.fc.in_features\n",
        "resnet18.fc = nn.Linear(no_features, 3)  # Change the output layer to have 3 classes - 1000 previously\n",
        "\n",
        "# Unfreeze the last few layers for fine-tuning\n",
        "unfreeze_from = \"layer4\"  # unfreeze from this layer onwards\n",
        "\n",
        "for name, param in resnet18.named_parameters():\n",
        "  if name.startswith(unfreeze_from):\n",
        "    param.requires_grad = True\n",
        "\n",
        "# Move the model to a specified device, which can be a CPU or a GPU.\n",
        "resnet18.to(device)\n",
        "\n",
        "criterion = nn.CrossEntropyLoss()\n",
        "# Compute gradient only for unfreezed layers \n",
        "trainable_params = [param for param in resnet18.parameters() if param.requires_grad]\n",
        "optimizer = torch.optim.SGD(trainable_params, lr=0.001)"
      ],
      "metadata": {
        "id": "XLVGif6fi-HF"
      },
      "execution_count": null,
      "outputs": []
    },
    {
      "cell_type": "markdown",
      "source": [
        "3. Architecture of the Resnet18 model in PyTorch after changes."
      ],
      "metadata": {
        "id": "sF3hJsZEjhD8"
      }
    },
    {
      "cell_type": "code",
      "source": [
        "print(resnet18)"
      ],
      "metadata": {
        "colab": {
          "base_uri": "https://localhost:8080/"
        },
        "id": "emHAzfcpdqgM",
        "outputId": "aba7fe99-a7b0-4956-d25b-bf88bbc9754f"
      },
      "execution_count": null,
      "outputs": [
        {
          "output_type": "stream",
          "name": "stdout",
          "text": [
            "ResNet(\n",
            "  (conv1): Conv2d(3, 64, kernel_size=(7, 7), stride=(2, 2), padding=(3, 3), bias=False)\n",
            "  (bn1): BatchNorm2d(64, eps=1e-05, momentum=0.1, affine=True, track_running_stats=True)\n",
            "  (relu): ReLU(inplace=True)\n",
            "  (maxpool): MaxPool2d(kernel_size=3, stride=2, padding=1, dilation=1, ceil_mode=False)\n",
            "  (layer1): Sequential(\n",
            "    (0): BasicBlock(\n",
            "      (conv1): Conv2d(64, 64, kernel_size=(3, 3), stride=(1, 1), padding=(1, 1), bias=False)\n",
            "      (bn1): BatchNorm2d(64, eps=1e-05, momentum=0.1, affine=True, track_running_stats=True)\n",
            "      (relu): ReLU(inplace=True)\n",
            "      (conv2): Conv2d(64, 64, kernel_size=(3, 3), stride=(1, 1), padding=(1, 1), bias=False)\n",
            "      (bn2): BatchNorm2d(64, eps=1e-05, momentum=0.1, affine=True, track_running_stats=True)\n",
            "    )\n",
            "    (1): BasicBlock(\n",
            "      (conv1): Conv2d(64, 64, kernel_size=(3, 3), stride=(1, 1), padding=(1, 1), bias=False)\n",
            "      (bn1): BatchNorm2d(64, eps=1e-05, momentum=0.1, affine=True, track_running_stats=True)\n",
            "      (relu): ReLU(inplace=True)\n",
            "      (conv2): Conv2d(64, 64, kernel_size=(3, 3), stride=(1, 1), padding=(1, 1), bias=False)\n",
            "      (bn2): BatchNorm2d(64, eps=1e-05, momentum=0.1, affine=True, track_running_stats=True)\n",
            "    )\n",
            "  )\n",
            "  (layer2): Sequential(\n",
            "    (0): BasicBlock(\n",
            "      (conv1): Conv2d(64, 128, kernel_size=(3, 3), stride=(2, 2), padding=(1, 1), bias=False)\n",
            "      (bn1): BatchNorm2d(128, eps=1e-05, momentum=0.1, affine=True, track_running_stats=True)\n",
            "      (relu): ReLU(inplace=True)\n",
            "      (conv2): Conv2d(128, 128, kernel_size=(3, 3), stride=(1, 1), padding=(1, 1), bias=False)\n",
            "      (bn2): BatchNorm2d(128, eps=1e-05, momentum=0.1, affine=True, track_running_stats=True)\n",
            "      (downsample): Sequential(\n",
            "        (0): Conv2d(64, 128, kernel_size=(1, 1), stride=(2, 2), bias=False)\n",
            "        (1): BatchNorm2d(128, eps=1e-05, momentum=0.1, affine=True, track_running_stats=True)\n",
            "      )\n",
            "    )\n",
            "    (1): BasicBlock(\n",
            "      (conv1): Conv2d(128, 128, kernel_size=(3, 3), stride=(1, 1), padding=(1, 1), bias=False)\n",
            "      (bn1): BatchNorm2d(128, eps=1e-05, momentum=0.1, affine=True, track_running_stats=True)\n",
            "      (relu): ReLU(inplace=True)\n",
            "      (conv2): Conv2d(128, 128, kernel_size=(3, 3), stride=(1, 1), padding=(1, 1), bias=False)\n",
            "      (bn2): BatchNorm2d(128, eps=1e-05, momentum=0.1, affine=True, track_running_stats=True)\n",
            "    )\n",
            "  )\n",
            "  (layer3): Sequential(\n",
            "    (0): BasicBlock(\n",
            "      (conv1): Conv2d(128, 256, kernel_size=(3, 3), stride=(2, 2), padding=(1, 1), bias=False)\n",
            "      (bn1): BatchNorm2d(256, eps=1e-05, momentum=0.1, affine=True, track_running_stats=True)\n",
            "      (relu): ReLU(inplace=True)\n",
            "      (conv2): Conv2d(256, 256, kernel_size=(3, 3), stride=(1, 1), padding=(1, 1), bias=False)\n",
            "      (bn2): BatchNorm2d(256, eps=1e-05, momentum=0.1, affine=True, track_running_stats=True)\n",
            "      (downsample): Sequential(\n",
            "        (0): Conv2d(128, 256, kernel_size=(1, 1), stride=(2, 2), bias=False)\n",
            "        (1): BatchNorm2d(256, eps=1e-05, momentum=0.1, affine=True, track_running_stats=True)\n",
            "      )\n",
            "    )\n",
            "    (1): BasicBlock(\n",
            "      (conv1): Conv2d(256, 256, kernel_size=(3, 3), stride=(1, 1), padding=(1, 1), bias=False)\n",
            "      (bn1): BatchNorm2d(256, eps=1e-05, momentum=0.1, affine=True, track_running_stats=True)\n",
            "      (relu): ReLU(inplace=True)\n",
            "      (conv2): Conv2d(256, 256, kernel_size=(3, 3), stride=(1, 1), padding=(1, 1), bias=False)\n",
            "      (bn2): BatchNorm2d(256, eps=1e-05, momentum=0.1, affine=True, track_running_stats=True)\n",
            "    )\n",
            "  )\n",
            "  (layer4): Sequential(\n",
            "    (0): BasicBlock(\n",
            "      (conv1): Conv2d(256, 512, kernel_size=(3, 3), stride=(2, 2), padding=(1, 1), bias=False)\n",
            "      (bn1): BatchNorm2d(512, eps=1e-05, momentum=0.1, affine=True, track_running_stats=True)\n",
            "      (relu): ReLU(inplace=True)\n",
            "      (conv2): Conv2d(512, 512, kernel_size=(3, 3), stride=(1, 1), padding=(1, 1), bias=False)\n",
            "      (bn2): BatchNorm2d(512, eps=1e-05, momentum=0.1, affine=True, track_running_stats=True)\n",
            "      (downsample): Sequential(\n",
            "        (0): Conv2d(256, 512, kernel_size=(1, 1), stride=(2, 2), bias=False)\n",
            "        (1): BatchNorm2d(512, eps=1e-05, momentum=0.1, affine=True, track_running_stats=True)\n",
            "      )\n",
            "    )\n",
            "    (1): BasicBlock(\n",
            "      (conv1): Conv2d(512, 512, kernel_size=(3, 3), stride=(1, 1), padding=(1, 1), bias=False)\n",
            "      (bn1): BatchNorm2d(512, eps=1e-05, momentum=0.1, affine=True, track_running_stats=True)\n",
            "      (relu): ReLU(inplace=True)\n",
            "      (conv2): Conv2d(512, 512, kernel_size=(3, 3), stride=(1, 1), padding=(1, 1), bias=False)\n",
            "      (bn2): BatchNorm2d(512, eps=1e-05, momentum=0.1, affine=True, track_running_stats=True)\n",
            "    )\n",
            "  )\n",
            "  (avgpool): AdaptiveAvgPool2d(output_size=(1, 1))\n",
            "  (fc): Linear(in_features=512, out_features=3, bias=True)\n",
            ")\n"
          ]
        }
      ]
    },
    {
      "cell_type": "markdown",
      "source": [
        "4. Train the model to classify dogs breeds."
      ],
      "metadata": {
        "id": "fmF9TEWMd7Mu"
      }
    },
    {
      "cell_type": "code",
      "source": [
        "best_val_acc = 0.0  # Initialize the best validation accuracy\n",
        "patience = 5  # Number of epochs to wait for an improvement in validation accuracy\n",
        "epochs_since_improvement = 0  # Initialize the counter for epochs without improvement\n",
        "epoch = 0  # Initialize the epoch counter\n",
        "\n",
        "while epochs_since_improvement < patience:\n",
        "  epoch += 1\n",
        "\n",
        "  # Training\n",
        "  resnet18.train()\n",
        "  train_loss = 0\n",
        "  for i, (images, labels) in enumerate(train_loader):\n",
        "    images, labels = images.to(device), labels.to(device)\n",
        "\n",
        "    outputs = resnet18(images)\n",
        "    loss = criterion(outputs, labels)\n",
        "\n",
        "    optimizer.zero_grad()\n",
        "    loss.backward()\n",
        "    optimizer.step()\n",
        "\n",
        "    train_loss += loss.item()\n",
        "  \n",
        "  train_loss /= len(train_loader)\n",
        "\n",
        "  # Validation\n",
        "  resnet18.eval()\n",
        "  val_loss = 0\n",
        "  correct = 0\n",
        "  total = 0\n",
        "  with torch.no_grad():\n",
        "    for images, labels in val_loader:\n",
        "      images, labels = images.to(device), labels.to(device)\n",
        "\n",
        "      outputs = resnet18(images)\n",
        "      loss = criterion(outputs, labels)\n",
        "\n",
        "      val_loss += loss.item()\n",
        "\n",
        "      _, predicted = torch.max(outputs.data, 1)\n",
        "      total += labels.size(0)\n",
        "      correct += (predicted == labels).sum().item()\n",
        "  val_loss /= len(val_loader)\n",
        "  val_acc = 100 * correct / total\n",
        "\n",
        "  print('Epoch: {}, Train Loss: {:.4f}, Val Loss: {:.4f}, Val Accuracy: {:.2f}%, Best Val Accuracy: {:.2f}%'\n",
        "        .format(epoch, train_loss, val_loss, val_acc, best_val_acc))\n",
        "\n",
        "  # Check if validation accuracy has improved\n",
        "  if val_acc > best_val_acc:\n",
        "    best_val_acc = val_acc\n",
        "    epochs_since_improvement = 0\n",
        "  else:\n",
        "    epochs_since_improvement += 1"
      ],
      "metadata": {
        "colab": {
          "base_uri": "https://localhost:8080/"
        },
        "id": "3hxgLWKTjf7C",
        "outputId": "4c41af09-1eca-4295-d1b6-9174597a8d63"
      },
      "execution_count": null,
      "outputs": [
        {
          "output_type": "stream",
          "name": "stdout",
          "text": [
            "Epoch: 1, Train Loss: 1.1070, Val Loss: 0.8451, Val Accuracy: 62.26%, Best Val Accuracy: 0.00%\n",
            "Epoch: 2, Train Loss: 0.7835, Val Loss: 0.6277, Val Accuracy: 77.36%, Best Val Accuracy: 62.26%\n",
            "Epoch: 3, Train Loss: 0.6197, Val Loss: 0.5302, Val Accuracy: 84.91%, Best Val Accuracy: 77.36%\n",
            "Epoch: 4, Train Loss: 0.4985, Val Loss: 0.4186, Val Accuracy: 90.57%, Best Val Accuracy: 84.91%\n",
            "Epoch: 5, Train Loss: 0.4270, Val Loss: 0.3866, Val Accuracy: 92.45%, Best Val Accuracy: 90.57%\n",
            "Epoch: 6, Train Loss: 0.3678, Val Loss: 0.3090, Val Accuracy: 94.34%, Best Val Accuracy: 92.45%\n",
            "Epoch: 7, Train Loss: 0.3250, Val Loss: 0.3172, Val Accuracy: 94.34%, Best Val Accuracy: 94.34%\n",
            "Epoch: 8, Train Loss: 0.3141, Val Loss: 0.3013, Val Accuracy: 96.23%, Best Val Accuracy: 94.34%\n",
            "Epoch: 9, Train Loss: 0.2776, Val Loss: 0.2756, Val Accuracy: 96.23%, Best Val Accuracy: 96.23%\n",
            "Epoch: 10, Train Loss: 0.2603, Val Loss: 0.2253, Val Accuracy: 96.23%, Best Val Accuracy: 96.23%\n",
            "Epoch: 11, Train Loss: 0.2336, Val Loss: 0.2293, Val Accuracy: 96.23%, Best Val Accuracy: 96.23%\n",
            "Epoch: 12, Train Loss: 0.2107, Val Loss: 0.1980, Val Accuracy: 96.23%, Best Val Accuracy: 96.23%\n",
            "Epoch: 13, Train Loss: 0.2061, Val Loss: 0.1901, Val Accuracy: 96.23%, Best Val Accuracy: 96.23%\n"
          ]
        }
      ]
    },
    {
      "cell_type": "markdown",
      "source": [
        "3. Definig train sizes "
      ],
      "metadata": {
        "id": "E-zXXnqSjt5l"
      }
    },
    {
      "cell_type": "code",
      "source": [
        "resnet18.eval()\n",
        "test_correct = 0\n",
        "test_total = 0\n",
        "\n",
        "all_labels = np.array([], dtype=int)\n",
        "all_predictions = np.array([], dtype=int)\n",
        "\n",
        "with torch.no_grad():\n",
        "  # Test\n",
        "  for images, labels in test_loader:\n",
        "    images, labels = images.to(device), labels.to(device)\n",
        "\n",
        "    outputs = resnet18(images)\n",
        "    _, predicted = torch.max(outputs.data, 1)\n",
        "    test_total += labels.size(0)\n",
        "    test_correct += (predicted == labels).sum().item()\n",
        "\n",
        "    cpu_labels = labels.cpu().numpy()\n",
        "    cpu_predicted = predicted.cpu().numpy()\n",
        "\n",
        "    all_labels = np.concatenate((all_labels, cpu_labels))\n",
        "    all_predictions = np.concatenate((all_predictions, cpu_predicted))\n",
        "\n",
        "test_acc = 100 * test_correct / test_total\n",
        "print('Test Accuracy: {:.2f}%'.format(test_acc))\n",
        "\n",
        "# Compute and print the confusion matrix\n",
        "conf_matrix = confusion_matrix(all_labels, all_predictions)\n",
        "conf_matrix_display = ConfusionMatrixDisplay(conf_matrix)\n",
        "conf_matrix_display.plot()"
      ],
      "metadata": {
        "colab": {
          "base_uri": "https://localhost:8080/",
          "height": 484
        },
        "id": "ITDGZP4Fjp9u",
        "outputId": "bb7a4b7b-9f5d-4d97-b9d0-d3f6745bfb05"
      },
      "execution_count": null,
      "outputs": [
        {
          "output_type": "stream",
          "name": "stdout",
          "text": [
            "Test Accuracy: 94.55%\n"
          ]
        },
        {
          "output_type": "execute_result",
          "data": {
            "text/plain": [
              "<sklearn.metrics._plot.confusion_matrix.ConfusionMatrixDisplay at 0x7f56c71e4e80>"
            ]
          },
          "metadata": {},
          "execution_count": 89
        },
        {
          "output_type": "display_data",
          "data": {
            "text/plain": [
              "<Figure size 640x480 with 2 Axes>"
            ],
            "image/png": "[encoded data removed]"
          },
          "metadata": {}
        }
      ]
    }
  ]
}
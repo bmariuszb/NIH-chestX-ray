{
  "cells": [
    {
      "cell_type": "code",
      "execution_count": null,
      "metadata": {
        "id": "qJLjfLhLr9Fv",
        "colab": {
          "base_uri": "https://localhost:8080/"
        },
        "outputId": "2b05bebf-a4cd-4e54-d837-00f59ef33d31"
      },
      "outputs": [
        {
          "output_type": "stream",
          "name": "stdout",
          "text": [
            "Looking in indexes: https://pypi.org/simple, https://us-python.pkg.dev/colab-wheels/public/simple/\n",
            "Collecting deeplake[enterprise]\n",
            "  Downloading deeplake-3.6.6.tar.gz (517 kB)\n",
            "\u001b[2K     \u001b[90m━━━━━━━━━━━━━━━━━━━━━━━━━━━━━━━━━━━━━━\u001b[0m \u001b[32m517.7/517.7 kB\u001b[0m \u001b[31m30.5 MB/s\u001b[0m eta \u001b[36m0:00:00\u001b[0m\n",
            "\u001b[?25h  Preparing metadata (setup.py) ... \u001b[?25l\u001b[?25hdone\n",
            "Requirement already satisfied: numpy in /usr/local/lib/python3.10/dist-packages (from deeplake[enterprise]) (1.22.4)\n",
            "Requirement already satisfied: pillow in /usr/local/lib/python3.10/dist-packages (from deeplake[enterprise]) (8.4.0)\n",
            "Collecting boto3 (from deeplake[enterprise])\n",
            "  Downloading boto3-1.26.160-py3-none-any.whl (135 kB)\n",
            "\u001b[2K     \u001b[90m━━━━━━━━━━━━━━━━━━━━━━━━━━━━━━━━━━━━━━\u001b[0m \u001b[32m135.9/135.9 kB\u001b[0m \u001b[31m14.9 MB/s\u001b[0m eta \u001b[36m0:00:00\u001b[0m\n",
            "\u001b[?25hRequirement already satisfied: click in /usr/local/lib/python3.10/dist-packages (from deeplake[enterprise]) (8.1.3)\n",
            "Collecting pathos (from deeplake[enterprise])\n",
            "  Downloading pathos-0.3.0-py3-none-any.whl (79 kB)\n",
            "\u001b[2K     \u001b[90m━━━━━━━━━━━━━━━━━━━━━━━━━━━━━━━━━━━━━━━━\u001b[0m \u001b[32m79.8/79.8 kB\u001b[0m \u001b[31m4.5 MB/s\u001b[0m eta \u001b[36m0:00:00\u001b[0m\n",
            "\u001b[?25hCollecting humbug>=0.3.1 (from deeplake[enterprise])\n",
            "  Downloading humbug-0.3.1-py3-none-any.whl (15 kB)\n",
            "Requirement already satisfied: tqdm in /usr/local/lib/python3.10/dist-packages (from deeplake[enterprise]) (4.65.0)\n",
            "Collecting numcodecs (from deeplake[enterprise])\n",
            "  Downloading numcodecs-0.11.0-cp310-cp310-manylinux_2_17_x86_64.manylinux2014_x86_64.whl (6.7 MB)\n",
            "\u001b[2K     \u001b[90m━━━━━━━━━━━━━━━━━━━━━━━━━━━━━━━━━━━━━━━━\u001b[0m \u001b[32m6.7/6.7 MB\u001b[0m \u001b[31m45.7 MB/s\u001b[0m eta \u001b[36m0:00:00\u001b[0m\n",
            "\u001b[?25hCollecting pyjwt (from deeplake[enterprise])\n",
            "  Downloading PyJWT-2.7.0-py3-none-any.whl (22 kB)\n",
            "Collecting aioboto3>=10.4.0 (from deeplake[enterprise])\n",
            "  Downloading aioboto3-11.2.0-py3-none-any.whl (32 kB)\n",
            "Requirement already satisfied: nest_asyncio in /usr/local/lib/python3.10/dist-packages (from deeplake[enterprise]) (1.5.6)\n",
            "Collecting libdeeplake==0.0.60 (from deeplake[enterprise])\n",
            "  Downloading libdeeplake-0.0.60-cp310-cp310-manylinux2010_x86_64.whl (10.9 MB)\n",
            "\u001b[2K     \u001b[90m━━━━━━━━━━━━━━━━━━━━━━━━━━━━━━━━━━━━━━━━\u001b[0m \u001b[32m10.9/10.9 MB\u001b[0m \u001b[31m56.4 MB/s\u001b[0m eta \u001b[36m0:00:00\u001b[0m\n",
            "\u001b[?25hCollecting aiobotocore[boto3]==2.5.0 (from aioboto3>=10.4.0->deeplake[enterprise])\n",
            "  Downloading aiobotocore-2.5.0-py3-none-any.whl (72 kB)\n",
            "\u001b[2K     \u001b[90m━━━━━━━━━━━━━━━━━━━━━━━━━━━━━━━━━━━━━━━━\u001b[0m \u001b[32m72.7/72.7 kB\u001b[0m \u001b[31m8.7 MB/s\u001b[0m eta \u001b[36m0:00:00\u001b[0m\n",
            "\u001b[?25hCollecting botocore<1.29.77,>=1.29.76 (from aiobotocore[boto3]==2.5.0->aioboto3>=10.4.0->deeplake[enterprise])\n",
            "  Downloading botocore-1.29.76-py3-none-any.whl (10.4 MB)\n",
            "\u001b[2K     \u001b[90m━━━━━━━━━━━━━━━━━━━━━━━━━━━━━━━━━━━━━━━━\u001b[0m \u001b[32m10.4/10.4 MB\u001b[0m \u001b[31m60.4 MB/s\u001b[0m eta \u001b[36m0:00:00\u001b[0m\n",
            "\u001b[?25hCollecting aiohttp>=3.3.1 (from aiobotocore[boto3]==2.5.0->aioboto3>=10.4.0->deeplake[enterprise])\n",
            "  Downloading aiohttp-3.8.4-cp310-cp310-manylinux_2_17_x86_64.manylinux2014_x86_64.whl (1.0 MB)\n",
            "\u001b[2K     \u001b[90m━━━━━━━━━━━━━━━━━━━━━━━━━━━━━━━━━━━━━━━━\u001b[0m \u001b[32m1.0/1.0 MB\u001b[0m \u001b[31m54.5 MB/s\u001b[0m eta \u001b[36m0:00:00\u001b[0m\n",
            "\u001b[?25hRequirement already satisfied: wrapt>=1.10.10 in /usr/local/lib/python3.10/dist-packages (from aiobotocore[boto3]==2.5.0->aioboto3>=10.4.0->deeplake[enterprise]) (1.14.1)\n",
            "Collecting aioitertools>=0.5.1 (from aiobotocore[boto3]==2.5.0->aioboto3>=10.4.0->deeplake[enterprise])\n",
            "  Downloading aioitertools-0.11.0-py3-none-any.whl (23 kB)\n",
            "Collecting boto3 (from deeplake[enterprise])\n",
            "  Downloading boto3-1.26.76-py3-none-any.whl (132 kB)\n",
            "\u001b[2K     \u001b[90m━━━━━━━━━━━━━━━━━━━━━━━━━━━━━━━━━━━━━━━\u001b[0m \u001b[32m132.7/132.7 kB\u001b[0m \u001b[31m9.6 MB/s\u001b[0m eta \u001b[36m0:00:00\u001b[0m\n",
            "\u001b[?25hCollecting jmespath<2.0.0,>=0.7.1 (from boto3->deeplake[enterprise])\n",
            "  Downloading jmespath-1.0.1-py3-none-any.whl (20 kB)\n",
            "Collecting s3transfer<0.7.0,>=0.6.0 (from boto3->deeplake[enterprise])\n",
            "  Downloading s3transfer-0.6.1-py3-none-any.whl (79 kB)\n",
            "\u001b[2K     \u001b[90m━━━━━━━━━━━━━━━━━━━━━━━━━━━━━━━━━━━━━━━━\u001b[0m \u001b[32m79.8/79.8 kB\u001b[0m \u001b[31m10.8 MB/s\u001b[0m eta \u001b[36m0:00:00\u001b[0m\n",
            "\u001b[?25hRequirement already satisfied: requests in /usr/local/lib/python3.10/dist-packages (from humbug>=0.3.1->deeplake[enterprise]) (2.27.1)\n",
            "Requirement already satisfied: entrypoints in /usr/local/lib/python3.10/dist-packages (from numcodecs->deeplake[enterprise]) (0.4)\n",
            "Collecting ppft>=1.7.6.6 (from pathos->deeplake[enterprise])\n",
            "  Downloading ppft-1.7.6.6-py3-none-any.whl (52 kB)\n",
            "\u001b[2K     \u001b[90m━━━━━━━━━━━━━━━━━━━━━━━━━━━━━━━━━━━━━━━━\u001b[0m \u001b[32m52.8/52.8 kB\u001b[0m \u001b[31m6.0 MB/s\u001b[0m eta \u001b[36m0:00:00\u001b[0m\n",
            "\u001b[?25hCollecting dill>=0.3.6 (from pathos->deeplake[enterprise])\n",
            "  Downloading dill-0.3.6-py3-none-any.whl (110 kB)\n",
            "\u001b[2K     \u001b[90m━━━━━━━━━━━━━━━━━━━━━━━━━━━━━━━━━━━━━━\u001b[0m \u001b[32m110.5/110.5 kB\u001b[0m \u001b[31m14.2 MB/s\u001b[0m eta \u001b[36m0:00:00\u001b[0m\n",
            "\u001b[?25hCollecting pox>=0.3.2 (from pathos->deeplake[enterprise])\n",
            "  Downloading pox-0.3.2-py3-none-any.whl (29 kB)\n",
            "Collecting multiprocess>=0.70.14 (from pathos->deeplake[enterprise])\n",
            "  Downloading multiprocess-0.70.14-py310-none-any.whl (134 kB)\n",
            "\u001b[2K     \u001b[90m━━━━━━━━━━━━━━━━━━━━━━━━━━━━━━━━━━━━━━\u001b[0m \u001b[32m134.3/134.3 kB\u001b[0m \u001b[31m14.1 MB/s\u001b[0m eta \u001b[36m0:00:00\u001b[0m\n",
            "\u001b[?25hRequirement already satisfied: python-dateutil<3.0.0,>=2.1 in /usr/local/lib/python3.10/dist-packages (from botocore<1.29.77,>=1.29.76->aiobotocore[boto3]==2.5.0->aioboto3>=10.4.0->deeplake[enterprise]) (2.8.2)\n",
            "Requirement already satisfied: urllib3<1.27,>=1.25.4 in /usr/local/lib/python3.10/dist-packages (from botocore<1.29.77,>=1.29.76->aiobotocore[boto3]==2.5.0->aioboto3>=10.4.0->deeplake[enterprise]) (1.26.16)\n",
            "Requirement already satisfied: certifi>=2017.4.17 in /usr/local/lib/python3.10/dist-packages (from requests->humbug>=0.3.1->deeplake[enterprise]) (2023.5.7)\n",
            "Requirement already satisfied: charset-normalizer~=2.0.0 in /usr/local/lib/python3.10/dist-packages (from requests->humbug>=0.3.1->deeplake[enterprise]) (2.0.12)\n",
            "Requirement already satisfied: idna<4,>=2.5 in /usr/local/lib/python3.10/dist-packages (from requests->humbug>=0.3.1->deeplake[enterprise]) (3.4)\n",
            "Requirement already satisfied: attrs>=17.3.0 in /usr/local/lib/python3.10/dist-packages (from aiohttp>=3.3.1->aiobotocore[boto3]==2.5.0->aioboto3>=10.4.0->deeplake[enterprise]) (23.1.0)\n",
            "Collecting multidict<7.0,>=4.5 (from aiohttp>=3.3.1->aiobotocore[boto3]==2.5.0->aioboto3>=10.4.0->deeplake[enterprise])\n",
            "  Downloading multidict-6.0.4-cp310-cp310-manylinux_2_17_x86_64.manylinux2014_x86_64.whl (114 kB)\n",
            "\u001b[2K     \u001b[90m━━━━━━━━━━━━━━━━━━━━━━━━━━━━━━━━━━━━━━\u001b[0m \u001b[32m114.5/114.5 kB\u001b[0m \u001b[31m13.0 MB/s\u001b[0m eta \u001b[36m0:00:00\u001b[0m\n",
            "\u001b[?25hCollecting async-timeout<5.0,>=4.0.0a3 (from aiohttp>=3.3.1->aiobotocore[boto3]==2.5.0->aioboto3>=10.4.0->deeplake[enterprise])\n",
            "  Downloading async_timeout-4.0.2-py3-none-any.whl (5.8 kB)\n",
            "Collecting yarl<2.0,>=1.0 (from aiohttp>=3.3.1->aiobotocore[boto3]==2.5.0->aioboto3>=10.4.0->deeplake[enterprise])\n",
            "  Downloading yarl-1.9.2-cp310-cp310-manylinux_2_17_x86_64.manylinux2014_x86_64.whl (268 kB)\n",
            "\u001b[2K     \u001b[90m━━━━━━━━━━━━━━━━━━━━━━━━━━━━━━━━━━━━━━\u001b[0m \u001b[32m268.8/268.8 kB\u001b[0m \u001b[31m24.7 MB/s\u001b[0m eta \u001b[36m0:00:00\u001b[0m\n",
            "\u001b[?25hCollecting frozenlist>=1.1.1 (from aiohttp>=3.3.1->aiobotocore[boto3]==2.5.0->aioboto3>=10.4.0->deeplake[enterprise])\n",
            "  Downloading frozenlist-1.3.3-cp310-cp310-manylinux_2_5_x86_64.manylinux1_x86_64.manylinux_2_17_x86_64.manylinux2014_x86_64.whl (149 kB)\n",
            "\u001b[2K     \u001b[90m━━━━━━━━━━━━━━━━━━━━━━━━━━━━━━━━━━━━━━\u001b[0m \u001b[32m149.6/149.6 kB\u001b[0m \u001b[31m17.7 MB/s\u001b[0m eta \u001b[36m0:00:00\u001b[0m\n",
            "\u001b[?25hCollecting aiosignal>=1.1.2 (from aiohttp>=3.3.1->aiobotocore[boto3]==2.5.0->aioboto3>=10.4.0->deeplake[enterprise])\n",
            "  Downloading aiosignal-1.3.1-py3-none-any.whl (7.6 kB)\n",
            "Requirement already satisfied: six>=1.5 in /usr/local/lib/python3.10/dist-packages (from python-dateutil<3.0.0,>=2.1->botocore<1.29.77,>=1.29.76->aiobotocore[boto3]==2.5.0->aioboto3>=10.4.0->deeplake[enterprise]) (1.16.0)\n",
            "Building wheels for collected packages: deeplake\n",
            "  Building wheel for deeplake (setup.py) ... \u001b[?25l\u001b[?25hdone\n",
            "  Created wheel for deeplake: filename=deeplake-3.6.6-py3-none-any.whl size=630663 sha256=2162feef8774d725651c08fa62822d6c8f05134d2779b61ad63d820727cd64b8\n",
            "  Stored in directory: /root/.cache/pip/wheels/ae/f2/42/200b514582048231369267bd505e22677f74f0fecb53205417\n",
            "Successfully built deeplake\n",
            "Installing collected packages: pyjwt, ppft, pox, numcodecs, multidict, libdeeplake, jmespath, frozenlist, dill, async-timeout, aioitertools, yarl, multiprocess, humbug, botocore, aiosignal, s3transfer, pathos, aiohttp, boto3, aiobotocore, aioboto3, deeplake\n",
            "Successfully installed aioboto3-11.2.0 aiobotocore-2.5.0 aiohttp-3.8.4 aioitertools-0.11.0 aiosignal-1.3.1 async-timeout-4.0.2 boto3-1.26.76 botocore-1.29.76 deeplake-3.6.6 dill-0.3.6 frozenlist-1.3.3 humbug-0.3.1 jmespath-1.0.1 libdeeplake-0.0.60 multidict-6.0.4 multiprocess-0.70.14 numcodecs-0.11.0 pathos-0.3.0 pox-0.3.2 ppft-1.7.6.6 pyjwt-2.7.0 s3transfer-0.6.1 yarl-1.9.2\n"
          ]
        }
      ],
      "source": [
        "!pip install deeplake[enterprise]"
      ]
    },
    {
      "cell_type": "code",
      "execution_count": null,
      "metadata": {
        "colab": {
          "base_uri": "https://localhost:8080/"
        },
        "id": "OTtX0jVcsGBe",
        "outputId": "881a06de-7089-48a3-db79-f408896d94c5"
      },
      "outputs": [
        {
          "output_type": "stream",
          "name": "stdout",
          "text": [
            "Mounted at /content/drive\n"
          ]
        }
      ],
      "source": [
        "from google.colab import drive\n",
        "drive.mount('/content/drive')"
      ]
    },
    {
      "cell_type": "code",
      "execution_count": null,
      "metadata": {
        "id": "JLwE5rRHsH6f"
      },
      "outputs": [],
      "source": [
        "import deeplake\n",
        "import matplotlib.pyplot as plt\n",
        "import os\n",
        "import time\n",
        "import torch\n",
        "import torch.nn as nn\n",
        "import torch.optim as optim\n",
        "import torch.nn.functional as F\n",
        "from torchvision import transforms, models"
      ]
    },
    {
      "cell_type": "code",
      "execution_count": null,
      "metadata": {
        "colab": {
          "base_uri": "https://localhost:8080/"
        },
        "id": "JGOHhIjtsJ30",
        "outputId": "970e6a38-25ea-4b51-e7a8-0a89318babf7"
      },
      "outputs": [
        {
          "output_type": "stream",
          "name": "stderr",
          "text": [
            "-"
          ]
        },
        {
          "output_type": "stream",
          "name": "stdout",
          "text": [
            "Opening dataset in read-only mode as you don't have write permissions.\n"
          ]
        },
        {
          "output_type": "stream",
          "name": "stderr",
          "text": [
            "-"
          ]
        },
        {
          "output_type": "stream",
          "name": "stdout",
          "text": [
            "This dataset can be visualized in Jupyter Notebook by ds.visualize() or at https://app.activeloop.ai/activeloop/nih-chest-xray-train\n",
            "\n"
          ]
        },
        {
          "output_type": "stream",
          "name": "stderr",
          "text": [
            "|"
          ]
        },
        {
          "output_type": "stream",
          "name": "stdout",
          "text": [
            "hub://activeloop/nih-chest-xray-train loaded successfully.\n",
            "\n"
          ]
        },
        {
          "output_type": "stream",
          "name": "stderr",
          "text": [
            "/"
          ]
        },
        {
          "output_type": "stream",
          "name": "stdout",
          "text": [
            "Opening dataset in read-only mode as you don't have write permissions.\n"
          ]
        },
        {
          "output_type": "stream",
          "name": "stderr",
          "text": [
            "/"
          ]
        },
        {
          "output_type": "stream",
          "name": "stdout",
          "text": [
            "This dataset can be visualized in Jupyter Notebook by ds.visualize() or at https://app.activeloop.ai/activeloop/nih-chest-xray-test\n",
            "\n"
          ]
        },
        {
          "output_type": "stream",
          "name": "stderr",
          "text": [
            "-"
          ]
        },
        {
          "output_type": "stream",
          "name": "stdout",
          "text": [
            "hub://activeloop/nih-chest-xray-test loaded successfully.\n",
            "\n"
          ]
        },
        {
          "output_type": "stream",
          "name": "stderr",
          "text": [
            "\r \r\r \r"
          ]
        }
      ],
      "source": [
        "train_ds = deeplake.load('hub://activeloop/nih-chest-xray-train')\n",
        "test_ds = deeplake.load('hub://activeloop/nih-chest-xray-test')\n",
        "\n",
        "balanced_view = train_ds.query(\"select * sample by max_weight(contains(findings, 'Hernia'): 20, contains(findings, 'Pneumonia'): 8, contains(findings, 'Fibrosis'): 5, contains(findings, 'Edema'): 5, contains(findings, 'Emphysema'): 2, True: 1)\")\n",
        "#balanced_view = balanced_view.query(\"select * where findings != 0\")\n",
        "#test_ds = test_ds.query(\"select * where findings != 0\")\n",
        "\n",
        "train_ds, val_ds = balanced_view.random_split([0.85, 0.15])"
      ]
    },
    {
      "cell_type": "code",
      "execution_count": null,
      "metadata": {
        "colab": {
          "base_uri": "https://localhost:8080/"
        },
        "id": "PESpP2k6sLZ7",
        "outputId": "0a95c5d8-54be-459b-9ff9-a896c5b5cbe1"
      },
      "outputs": [
        {
          "output_type": "stream",
          "name": "stdout",
          "text": [
            "Size of train dataset: 73546\n",
            "Size of validation dataset: 12978\n",
            "Size of test dataset: 25596\n"
          ]
        }
      ],
      "source": [
        "print(f'Size of train dataset: {len(train_ds)}')\n",
        "print(f'Size of validation dataset: {len(val_ds)}')\n",
        "print(f'Size of test dataset: {len(test_ds)}')"
      ]
    },
    {
      "cell_type": "code",
      "execution_count": null,
      "metadata": {
        "colab": {
          "base_uri": "https://localhost:8080/"
        },
        "id": "5-XV-uYNsOG3",
        "outputId": "dbe40ddc-079c-4172-d666-b7687466140f"
      },
      "outputs": [
        {
          "output_type": "stream",
          "name": "stdout",
          "text": [
            "Number of classes: 15\n",
            "0. No Finding\n",
            "1. Hernia\n",
            "2. Emphysema\n",
            "3. Nodule\n",
            "4. Pneumonia\n",
            "5. Consolidation\n",
            "6. Cardiomegaly\n",
            "7. Effusion\n",
            "8. Mass\n",
            "9. Pleural_Thickening\n",
            "10. Atelectasis\n",
            "11. Pneumothorax\n",
            "12. Fibrosis\n",
            "13. Infiltration\n",
            "14. Edema\n"
          ]
        }
      ],
      "source": [
        "classes_labels = train_ds.findings.info.class_names\n",
        "print(f'Number of classes: {len(classes_labels)}')\n",
        "for i, label in enumerate(classes_labels):\n",
        "  print(f'{i}. {label}')"
      ]
    },
    {
      "cell_type": "code",
      "execution_count": null,
      "metadata": {
        "id": "q_tqh1_7sOvu"
      },
      "outputs": [],
      "source": [
        "image_transform = transforms.Compose([\n",
        "    transforms.RandomResizedCrop(224, scale=(0.8, 1.0)),\n",
        "    transforms.RandomHorizontalFlip(),\n",
        "    transforms.RandomAffine(degrees=10, shear=10),\n",
        "    transforms.Grayscale(num_output_channels=1),\n",
        "    transforms.ToTensor(),\n",
        "    transforms.Normalize(mean=[0.5], std=[0.5]),\n",
        "])\n",
        "\n",
        "image_transform_test = transforms.Compose([\n",
        "    transforms.Resize((224, 224)),\n",
        "    transforms.Grayscale(num_output_channels=1),\n",
        "    transforms.ToTensor(),\n",
        "    transforms.Normalize(mean=[0.5], std=[0.5]),\n",
        "])\n",
        "\n",
        "def findings_transform(findings_list):\n",
        "    multi_hot_encoded = [0] * len(classes_labels)\n",
        "    for index in findings_list:\n",
        "        multi_hot_encoded[index] = 1\n",
        "\n",
        "    return torch.Tensor(multi_hot_encoded)\n",
        "\n",
        "batch_size = 64\n",
        "num_workers = 2\n",
        "\n",
        "train_loader = train_ds.dataloader()\\\n",
        "                 .transform({'images': image_transform, 'findings': findings_transform})\\\n",
        "                 .batch(batch_size)\\\n",
        "                 .shuffle(True)\\\n",
        "                 .pytorch(num_workers = num_workers, decode_method={'images': 'pil'})\n",
        "\n",
        "val_loader = val_ds.dataloader()\\\n",
        "                 .transform({'images': image_transform_test, 'findings': findings_transform})\\\n",
        "                 .batch(batch_size)\\\n",
        "                 .shuffle(False)\\\n",
        "                 .pytorch(num_workers = num_workers, decode_method={'images': 'pil'})\n",
        "\n",
        "test_loader = test_ds.dataloader()\\\n",
        "                 .transform({'images': image_transform_test, 'findings': findings_transform})\\\n",
        "                 .batch(batch_size)\\\n",
        "                 .shuffle(False)\\\n",
        "                 .pytorch(num_workers = num_workers, decode_method={'images': 'pil'})"
      ]
    },
    {
      "cell_type": "code",
      "execution_count": null,
      "metadata": {
        "id": "9R13YGhjsQNZ"
      },
      "outputs": [],
      "source": [
        "def train_one_epoch(model, optimizer, criterion, data_loader, val_data_loader, device):\n",
        "    # Training Phase\n",
        "    model.train()\n",
        "\n",
        "    running_train_loss = 0\n",
        "    #train_loss_list = []\n",
        "\n",
        "    for i, data in enumerate(data_loader):\n",
        "        inputs = data['images']\n",
        "        labels = data['findings']\n",
        "\n",
        "        inputs = inputs.to(device)\n",
        "        labels = labels.to(device)\n",
        "\n",
        "        optimizer.zero_grad()\n",
        "\n",
        "        outputs = model(inputs)\n",
        "\n",
        "        loss = criterion(outputs, labels)\n",
        "        running_train_loss += loss.item() * inputs.shape[0]\n",
        "\n",
        "        loss.backward()\n",
        "        optimizer.step()\n",
        "\n",
        "    average_loss = running_train_loss / len(data_loader)\n",
        "    print(f'Training phase completed. Average loss: {average_loss:.4f}')\n",
        "\n",
        "    # Validation Phase\n",
        "    model.eval()\n",
        "\n",
        "    running_val_loss = 0\n",
        "    val_correct = 0\n",
        "\n",
        "    with torch.no_grad():\n",
        "        for i, data in enumerate(val_data_loader):\n",
        "            inputs = data['images']\n",
        "            labels = data['findings']\n",
        "\n",
        "            inputs = inputs.to(device)\n",
        "            labels = labels.to(device)\n",
        "\n",
        "            outputs = model(inputs)\n",
        "\n",
        "            loss = criterion(outputs, labels)\n",
        "\n",
        "            running_val_loss += loss.item() * inputs.shape[0]\n",
        "\n",
        "    val_average_loss = running_val_loss / len(val_data_loader)\n",
        "    print(f'Validation phase completed. Average loss: {val_average_loss:.4f}')"
      ]
    },
    {
      "cell_type": "code",
      "execution_count": null,
      "metadata": {
        "id": "1FPFOUxNsVgm"
      },
      "outputs": [],
      "source": [
        "def test_model(model, data_loader, threshold):\n",
        "  model.eval()\n",
        "\n",
        "  total = 0\n",
        "  correct = 0\n",
        "  last_10_correct = 0\n",
        "  last_10_total = 0\n",
        "\n",
        "  # Disable gradient calculation for faster evaluation\n",
        "  with torch.no_grad():\n",
        "    for i, data in enumerate(data_loader):\n",
        "      inputs = data['images']\n",
        "      labels = data['findings']\n",
        "\n",
        "      inputs = inputs.to(device)\n",
        "      labels = labels.to(device)\n",
        "\n",
        "      outputs = model(inputs)\n",
        "\n",
        "      # Compute binary predictions by thresholding the output probabilities\n",
        "      predicted = (outputs > threshold).float()\n",
        "      # Calculate the number of correct predictions in the current batch\n",
        "      batch_correct = (predicted == labels).all(dim=1).float().sum().item()\n",
        "      # Calculate the total number of samples in the current batch\n",
        "      batch_total = labels.size(0)\n",
        "\n",
        "      correct += batch_correct\n",
        "      total += batch_total\n",
        "\n",
        "      last_10_correct += batch_correct\n",
        "      last_10_total += batch_total\n",
        "\n",
        "      if (i + 1) % 50 == 0 and i > 0:\n",
        "        last_10_accuracy = 100 * last_10_correct / last_10_total\n",
        "        average_accuracy = 100 * correct / total\n",
        "\n",
        "        print(f'[{i + 1}]: Last 50 batches accuracy: {last_10_accuracy:.2f}%, Average accuracy so far: {average_accuracy:.2f}%')\n",
        "\n",
        "        last_10_correct = 0\n",
        "        last_10_total = 0\n",
        "\n",
        "  accuracy = 100 * correct / total\n",
        "  print('Finished Testing')\n",
        "  print(f'Testing accuracy: {accuracy:.2f}%')"
      ]
    },
    {
      "cell_type": "code",
      "execution_count": null,
      "metadata": {
        "id": "p-cUzK-bsXoE"
      },
      "outputs": [],
      "source": [
        "def save_model(model, optimizer, epoch, save_path, model_name):\n",
        "  # Create the save directory if it doesn't exist\n",
        "  if not os.path.exists(save_path):\n",
        "    os.makedirs(save_path)\n",
        "\n",
        "  # Create the full path for the saved model\n",
        "  model_file = os.path.join(save_path, f\"{model_name}_epoch_{epoch}.pth\")\n",
        "\n",
        "  # Save the model and optimizer state_dicts\n",
        "  torch.save({\n",
        "    'epoch': epoch,\n",
        "    'model_state_dict': model.state_dict(),\n",
        "    'optimizer_state_dict': optimizer.state_dict(),\n",
        "  }, model_file)\n",
        "\n",
        "  print(f\"Model saved: {model_file}\")"
      ]
    },
    {
      "cell_type": "code",
      "execution_count": null,
      "metadata": {
        "id": "D4V-EdMjsYz6"
      },
      "outputs": [],
      "source": [
        "def load_model(model, optimizer, load_path, device):\n",
        "  # Load the saved model and optimizer state_dicts\n",
        "  checkpoint = torch.load(load_path)\n",
        "\n",
        "  # Load the model and optimizer state_dicts into the model and optimizer objects\n",
        "  model.load_state_dict(checkpoint['model_state_dict'])\n",
        "  optimizer.load_state_dict(checkpoint['optimizer_state_dict'])\n",
        "\n",
        "  # Move the model to the appropriate device (GPU or CPU)\n",
        "  model.to(device)\n",
        "\n",
        "  # Set the starting epoch for the model\n",
        "  start_epoch = checkpoint['epoch']\n",
        "\n",
        "  print(f\"Model loaded: {load_path}, starting from epoch {start_epoch}\")\n",
        "\n",
        "# Usage example:\n",
        "#load_path = \"/content/drive/MyDrive/SSN_Projekt/Saved_Models/MultiLabelCNN_epoch_1.pth\"\n",
        "#load_model(model, optimizer, load_path, device)"
      ]
    },
    {
      "cell_type": "code",
      "source": [
        "class FocalLoss(nn.Module):\n",
        "    def __init__(self, alpha=0.25, gamma=2.0, device='cpu'):\n",
        "        super(FocalLoss, self).__init__()\n",
        "        self.alpha = alpha\n",
        "        self.gamma = gamma\n",
        "        self.device = device\n",
        "\n",
        "    def forward(self, inputs, targets):\n",
        "        # Ensure the targets are binary (0 or 1)\n",
        "        targets = targets.float().to(self.device)\n",
        "\n",
        "        # Compute the binary cross-entropy loss\n",
        "        bce_loss = F.binary_cross_entropy_with_logits(inputs.to(self.device), targets, reduction='none')\n",
        "\n",
        "        # Compute the probability of the true class\n",
        "        p_t = torch.exp(-bce_loss)\n",
        "\n",
        "        # Compute the focal loss\n",
        "        focal_loss = self.alpha * (1 - p_t) ** self.gamma * bce_loss\n",
        "\n",
        "        # Average the focal loss over the batch\n",
        "        return focal_loss.mean()"
      ],
      "metadata": {
        "id": "VSNTK7sPBDRc"
      },
      "execution_count": null,
      "outputs": []
    },
    {
      "cell_type": "code",
      "execution_count": null,
      "metadata": {
        "id": "x_Oyo6BVqhoO",
        "colab": {
          "base_uri": "https://localhost:8080/"
        },
        "outputId": "b1f80a1f-e4ca-41fd-d9bc-3a3be243b426"
      },
      "outputs": [
        {
          "output_type": "stream",
          "name": "stderr",
          "text": [
            "Downloading: \"https://download.pytorch.org/models/resnet50-0676ba61.pth\" to /root/.cache/torch/hub/checkpoints/resnet50-0676ba61.pth\n",
            "100%|██████████| 97.8M/97.8M [00:00<00:00, 302MB/s]\n"
          ]
        },
        {
          "output_type": "stream",
          "name": "stdout",
          "text": [
            "Running on cuda\n",
            "ResNet(\n",
            "  (conv1): Conv2d(1, 64, kernel_size=(7, 7), stride=(2, 2), padding=(3, 3), bias=False)\n",
            "  (bn1): BatchNorm2d(64, eps=1e-05, momentum=0.1, affine=True, track_running_stats=True)\n",
            "  (relu): ReLU(inplace=True)\n",
            "  (maxpool): MaxPool2d(kernel_size=3, stride=2, padding=1, dilation=1, ceil_mode=False)\n",
            "  (layer1): Sequential(\n",
            "    (0): Bottleneck(\n",
            "      (conv1): Conv2d(64, 64, kernel_size=(1, 1), stride=(1, 1), bias=False)\n",
            "      (bn1): BatchNorm2d(64, eps=1e-05, momentum=0.1, affine=True, track_running_stats=True)\n",
            "      (conv2): Conv2d(64, 64, kernel_size=(3, 3), stride=(1, 1), padding=(1, 1), bias=False)\n",
            "      (bn2): BatchNorm2d(64, eps=1e-05, momentum=0.1, affine=True, track_running_stats=True)\n",
            "      (conv3): Conv2d(64, 256, kernel_size=(1, 1), stride=(1, 1), bias=False)\n",
            "      (bn3): BatchNorm2d(256, eps=1e-05, momentum=0.1, affine=True, track_running_stats=True)\n",
            "      (relu): ReLU(inplace=True)\n",
            "      (downsample): Sequential(\n",
            "        (0): Conv2d(64, 256, kernel_size=(1, 1), stride=(1, 1), bias=False)\n",
            "        (1): BatchNorm2d(256, eps=1e-05, momentum=0.1, affine=True, track_running_stats=True)\n",
            "      )\n",
            "    )\n",
            "    (1): Bottleneck(\n",
            "      (conv1): Conv2d(256, 64, kernel_size=(1, 1), stride=(1, 1), bias=False)\n",
            "      (bn1): BatchNorm2d(64, eps=1e-05, momentum=0.1, affine=True, track_running_stats=True)\n",
            "      (conv2): Conv2d(64, 64, kernel_size=(3, 3), stride=(1, 1), padding=(1, 1), bias=False)\n",
            "      (bn2): BatchNorm2d(64, eps=1e-05, momentum=0.1, affine=True, track_running_stats=True)\n",
            "      (conv3): Conv2d(64, 256, kernel_size=(1, 1), stride=(1, 1), bias=False)\n",
            "      (bn3): BatchNorm2d(256, eps=1e-05, momentum=0.1, affine=True, track_running_stats=True)\n",
            "      (relu): ReLU(inplace=True)\n",
            "    )\n",
            "    (2): Bottleneck(\n",
            "      (conv1): Conv2d(256, 64, kernel_size=(1, 1), stride=(1, 1), bias=False)\n",
            "      (bn1): BatchNorm2d(64, eps=1e-05, momentum=0.1, affine=True, track_running_stats=True)\n",
            "      (conv2): Conv2d(64, 64, kernel_size=(3, 3), stride=(1, 1), padding=(1, 1), bias=False)\n",
            "      (bn2): BatchNorm2d(64, eps=1e-05, momentum=0.1, affine=True, track_running_stats=True)\n",
            "      (conv3): Conv2d(64, 256, kernel_size=(1, 1), stride=(1, 1), bias=False)\n",
            "      (bn3): BatchNorm2d(256, eps=1e-05, momentum=0.1, affine=True, track_running_stats=True)\n",
            "      (relu): ReLU(inplace=True)\n",
            "    )\n",
            "  )\n",
            "  (layer2): Sequential(\n",
            "    (0): Bottleneck(\n",
            "      (conv1): Conv2d(256, 128, kernel_size=(1, 1), stride=(1, 1), bias=False)\n",
            "      (bn1): BatchNorm2d(128, eps=1e-05, momentum=0.1, affine=True, track_running_stats=True)\n",
            "      (conv2): Conv2d(128, 128, kernel_size=(3, 3), stride=(2, 2), padding=(1, 1), bias=False)\n",
            "      (bn2): BatchNorm2d(128, eps=1e-05, momentum=0.1, affine=True, track_running_stats=True)\n",
            "      (conv3): Conv2d(128, 512, kernel_size=(1, 1), stride=(1, 1), bias=False)\n",
            "      (bn3): BatchNorm2d(512, eps=1e-05, momentum=0.1, affine=True, track_running_stats=True)\n",
            "      (relu): ReLU(inplace=True)\n",
            "      (downsample): Sequential(\n",
            "        (0): Conv2d(256, 512, kernel_size=(1, 1), stride=(2, 2), bias=False)\n",
            "        (1): BatchNorm2d(512, eps=1e-05, momentum=0.1, affine=True, track_running_stats=True)\n",
            "      )\n",
            "    )\n",
            "    (1): Bottleneck(\n",
            "      (conv1): Conv2d(512, 128, kernel_size=(1, 1), stride=(1, 1), bias=False)\n",
            "      (bn1): BatchNorm2d(128, eps=1e-05, momentum=0.1, affine=True, track_running_stats=True)\n",
            "      (conv2): Conv2d(128, 128, kernel_size=(3, 3), stride=(1, 1), padding=(1, 1), bias=False)\n",
            "      (bn2): BatchNorm2d(128, eps=1e-05, momentum=0.1, affine=True, track_running_stats=True)\n",
            "      (conv3): Conv2d(128, 512, kernel_size=(1, 1), stride=(1, 1), bias=False)\n",
            "      (bn3): BatchNorm2d(512, eps=1e-05, momentum=0.1, affine=True, track_running_stats=True)\n",
            "      (relu): ReLU(inplace=True)\n",
            "    )\n",
            "    (2): Bottleneck(\n",
            "      (conv1): Conv2d(512, 128, kernel_size=(1, 1), stride=(1, 1), bias=False)\n",
            "      (bn1): BatchNorm2d(128, eps=1e-05, momentum=0.1, affine=True, track_running_stats=True)\n",
            "      (conv2): Conv2d(128, 128, kernel_size=(3, 3), stride=(1, 1), padding=(1, 1), bias=False)\n",
            "      (bn2): BatchNorm2d(128, eps=1e-05, momentum=0.1, affine=True, track_running_stats=True)\n",
            "      (conv3): Conv2d(128, 512, kernel_size=(1, 1), stride=(1, 1), bias=False)\n",
            "      (bn3): BatchNorm2d(512, eps=1e-05, momentum=0.1, affine=True, track_running_stats=True)\n",
            "      (relu): ReLU(inplace=True)\n",
            "    )\n",
            "    (3): Bottleneck(\n",
            "      (conv1): Conv2d(512, 128, kernel_size=(1, 1), stride=(1, 1), bias=False)\n",
            "      (bn1): BatchNorm2d(128, eps=1e-05, momentum=0.1, affine=True, track_running_stats=True)\n",
            "      (conv2): Conv2d(128, 128, kernel_size=(3, 3), stride=(1, 1), padding=(1, 1), bias=False)\n",
            "      (bn2): BatchNorm2d(128, eps=1e-05, momentum=0.1, affine=True, track_running_stats=True)\n",
            "      (conv3): Conv2d(128, 512, kernel_size=(1, 1), stride=(1, 1), bias=False)\n",
            "      (bn3): BatchNorm2d(512, eps=1e-05, momentum=0.1, affine=True, track_running_stats=True)\n",
            "      (relu): ReLU(inplace=True)\n",
            "    )\n",
            "  )\n",
            "  (layer3): Sequential(\n",
            "    (0): Bottleneck(\n",
            "      (conv1): Conv2d(512, 256, kernel_size=(1, 1), stride=(1, 1), bias=False)\n",
            "      (bn1): BatchNorm2d(256, eps=1e-05, momentum=0.1, affine=True, track_running_stats=True)\n",
            "      (conv2): Conv2d(256, 256, kernel_size=(3, 3), stride=(2, 2), padding=(1, 1), bias=False)\n",
            "      (bn2): BatchNorm2d(256, eps=1e-05, momentum=0.1, affine=True, track_running_stats=True)\n",
            "      (conv3): Conv2d(256, 1024, kernel_size=(1, 1), stride=(1, 1), bias=False)\n",
            "      (bn3): BatchNorm2d(1024, eps=1e-05, momentum=0.1, affine=True, track_running_stats=True)\n",
            "      (relu): ReLU(inplace=True)\n",
            "      (downsample): Sequential(\n",
            "        (0): Conv2d(512, 1024, kernel_size=(1, 1), stride=(2, 2), bias=False)\n",
            "        (1): BatchNorm2d(1024, eps=1e-05, momentum=0.1, affine=True, track_running_stats=True)\n",
            "      )\n",
            "    )\n",
            "    (1): Bottleneck(\n",
            "      (conv1): Conv2d(1024, 256, kernel_size=(1, 1), stride=(1, 1), bias=False)\n",
            "      (bn1): BatchNorm2d(256, eps=1e-05, momentum=0.1, affine=True, track_running_stats=True)\n",
            "      (conv2): Conv2d(256, 256, kernel_size=(3, 3), stride=(1, 1), padding=(1, 1), bias=False)\n",
            "      (bn2): BatchNorm2d(256, eps=1e-05, momentum=0.1, affine=True, track_running_stats=True)\n",
            "      (conv3): Conv2d(256, 1024, kernel_size=(1, 1), stride=(1, 1), bias=False)\n",
            "      (bn3): BatchNorm2d(1024, eps=1e-05, momentum=0.1, affine=True, track_running_stats=True)\n",
            "      (relu): ReLU(inplace=True)\n",
            "    )\n",
            "    (2): Bottleneck(\n",
            "      (conv1): Conv2d(1024, 256, kernel_size=(1, 1), stride=(1, 1), bias=False)\n",
            "      (bn1): BatchNorm2d(256, eps=1e-05, momentum=0.1, affine=True, track_running_stats=True)\n",
            "      (conv2): Conv2d(256, 256, kernel_size=(3, 3), stride=(1, 1), padding=(1, 1), bias=False)\n",
            "      (bn2): BatchNorm2d(256, eps=1e-05, momentum=0.1, affine=True, track_running_stats=True)\n",
            "      (conv3): Conv2d(256, 1024, kernel_size=(1, 1), stride=(1, 1), bias=False)\n",
            "      (bn3): BatchNorm2d(1024, eps=1e-05, momentum=0.1, affine=True, track_running_stats=True)\n",
            "      (relu): ReLU(inplace=True)\n",
            "    )\n",
            "    (3): Bottleneck(\n",
            "      (conv1): Conv2d(1024, 256, kernel_size=(1, 1), stride=(1, 1), bias=False)\n",
            "      (bn1): BatchNorm2d(256, eps=1e-05, momentum=0.1, affine=True, track_running_stats=True)\n",
            "      (conv2): Conv2d(256, 256, kernel_size=(3, 3), stride=(1, 1), padding=(1, 1), bias=False)\n",
            "      (bn2): BatchNorm2d(256, eps=1e-05, momentum=0.1, affine=True, track_running_stats=True)\n",
            "      (conv3): Conv2d(256, 1024, kernel_size=(1, 1), stride=(1, 1), bias=False)\n",
            "      (bn3): BatchNorm2d(1024, eps=1e-05, momentum=0.1, affine=True, track_running_stats=True)\n",
            "      (relu): ReLU(inplace=True)\n",
            "    )\n",
            "    (4): Bottleneck(\n",
            "      (conv1): Conv2d(1024, 256, kernel_size=(1, 1), stride=(1, 1), bias=False)\n",
            "      (bn1): BatchNorm2d(256, eps=1e-05, momentum=0.1, affine=True, track_running_stats=True)\n",
            "      (conv2): Conv2d(256, 256, kernel_size=(3, 3), stride=(1, 1), padding=(1, 1), bias=False)\n",
            "      (bn2): BatchNorm2d(256, eps=1e-05, momentum=0.1, affine=True, track_running_stats=True)\n",
            "      (conv3): Conv2d(256, 1024, kernel_size=(1, 1), stride=(1, 1), bias=False)\n",
            "      (bn3): BatchNorm2d(1024, eps=1e-05, momentum=0.1, affine=True, track_running_stats=True)\n",
            "      (relu): ReLU(inplace=True)\n",
            "    )\n",
            "    (5): Bottleneck(\n",
            "      (conv1): Conv2d(1024, 256, kernel_size=(1, 1), stride=(1, 1), bias=False)\n",
            "      (bn1): BatchNorm2d(256, eps=1e-05, momentum=0.1, affine=True, track_running_stats=True)\n",
            "      (conv2): Conv2d(256, 256, kernel_size=(3, 3), stride=(1, 1), padding=(1, 1), bias=False)\n",
            "      (bn2): BatchNorm2d(256, eps=1e-05, momentum=0.1, affine=True, track_running_stats=True)\n",
            "      (conv3): Conv2d(256, 1024, kernel_size=(1, 1), stride=(1, 1), bias=False)\n",
            "      (bn3): BatchNorm2d(1024, eps=1e-05, momentum=0.1, affine=True, track_running_stats=True)\n",
            "      (relu): ReLU(inplace=True)\n",
            "    )\n",
            "  )\n",
            "  (layer4): Sequential(\n",
            "    (0): Bottleneck(\n",
            "      (conv1): Conv2d(1024, 512, kernel_size=(1, 1), stride=(1, 1), bias=False)\n",
            "      (bn1): BatchNorm2d(512, eps=1e-05, momentum=0.1, affine=True, track_running_stats=True)\n",
            "      (conv2): Conv2d(512, 512, kernel_size=(3, 3), stride=(2, 2), padding=(1, 1), bias=False)\n",
            "      (bn2): BatchNorm2d(512, eps=1e-05, momentum=0.1, affine=True, track_running_stats=True)\n",
            "      (conv3): Conv2d(512, 2048, kernel_size=(1, 1), stride=(1, 1), bias=False)\n",
            "      (bn3): BatchNorm2d(2048, eps=1e-05, momentum=0.1, affine=True, track_running_stats=True)\n",
            "      (relu): ReLU(inplace=True)\n",
            "      (downsample): Sequential(\n",
            "        (0): Conv2d(1024, 2048, kernel_size=(1, 1), stride=(2, 2), bias=False)\n",
            "        (1): BatchNorm2d(2048, eps=1e-05, momentum=0.1, affine=True, track_running_stats=True)\n",
            "      )\n",
            "    )\n",
            "    (1): Bottleneck(\n",
            "      (conv1): Conv2d(2048, 512, kernel_size=(1, 1), stride=(1, 1), bias=False)\n",
            "      (bn1): BatchNorm2d(512, eps=1e-05, momentum=0.1, affine=True, track_running_stats=True)\n",
            "      (conv2): Conv2d(512, 512, kernel_size=(3, 3), stride=(1, 1), padding=(1, 1), bias=False)\n",
            "      (bn2): BatchNorm2d(512, eps=1e-05, momentum=0.1, affine=True, track_running_stats=True)\n",
            "      (conv3): Conv2d(512, 2048, kernel_size=(1, 1), stride=(1, 1), bias=False)\n",
            "      (bn3): BatchNorm2d(2048, eps=1e-05, momentum=0.1, affine=True, track_running_stats=True)\n",
            "      (relu): ReLU(inplace=True)\n",
            "    )\n",
            "    (2): Bottleneck(\n",
            "      (conv1): Conv2d(2048, 512, kernel_size=(1, 1), stride=(1, 1), bias=False)\n",
            "      (bn1): BatchNorm2d(512, eps=1e-05, momentum=0.1, affine=True, track_running_stats=True)\n",
            "      (conv2): Conv2d(512, 512, kernel_size=(3, 3), stride=(1, 1), padding=(1, 1), bias=False)\n",
            "      (bn2): BatchNorm2d(512, eps=1e-05, momentum=0.1, affine=True, track_running_stats=True)\n",
            "      (conv3): Conv2d(512, 2048, kernel_size=(1, 1), stride=(1, 1), bias=False)\n",
            "      (bn3): BatchNorm2d(2048, eps=1e-05, momentum=0.1, affine=True, track_running_stats=True)\n",
            "      (relu): ReLU(inplace=True)\n",
            "    )\n",
            "  )\n",
            "  (avgpool): AdaptiveAvgPool2d(output_size=(1, 1))\n",
            "  (fc): Sequential(\n",
            "    (0): Linear(in_features=2048, out_features=15, bias=True)\n",
            "  )\n",
            ")\n"
          ]
        }
      ],
      "source": [
        "# Load the pre-trained model\n",
        "model = models.resnet50(weights=models.ResNet50_Weights.IMAGENET1K_V1)\n",
        "\n",
        "# Adapt the first layer\n",
        "model.conv1 = nn.Conv2d(1, 64, kernel_size=(7, 7), stride=(2, 2), padding=(3, 3), bias=False)\n",
        "\n",
        "# Number of filters in the bottleneck layer\n",
        "num_ftrs = model.fc.in_features\n",
        "\n",
        "# Number of labels in your dataset\n",
        "num_labels = 15  # Replace 15 with your actual number of labels\n",
        "\n",
        "# Replace the last fully connected layer with a new one\n",
        "model.fc = nn.Sequential(nn.Linear(num_ftrs, num_labels))\n",
        "\n",
        "# Unfreeze layer 4 and output layer\n",
        "#for name, param in model.named_parameters():\n",
        "#  if ('layer2' in name) or ('layer3' in name) or ('layer4' in name) or ('fc' in name):\n",
        "#    param.requires_grad = True\n",
        "#  else:\n",
        "#    param.requires_grad = False\n",
        "\n",
        "# Ensure the new conv1 layer is unfrozen\n",
        "#for param in model.conv1.parameters():\n",
        "#    param.requires_grad = True\n",
        "\n",
        "# Checking if GPU is available and setting the device accordingly\n",
        "device = torch.device('cuda') if torch.cuda.is_available() else torch.device('cpu')\n",
        "print(f'Running on {device}')\n",
        "\n",
        "# Define the loss function and optimizer\n",
        "criterion = FocalLoss(device=device)\n",
        "optimizer = optimizer = optim.Adam(filter(lambda p: p.requires_grad, model.parameters()), lr = 0.001, weight_decay = 0.001)\n",
        "\n",
        "# Print the new architecture\n",
        "print(model)"
      ]
    },
    {
      "cell_type": "code",
      "source": [
        "# Iterate through the layers and print if they are frozen\n",
        "for name, param in model.named_parameters():\n",
        "    print(f\"Layer: {name}, Frozen: {not param.requires_grad}\")"
      ],
      "metadata": {
        "colab": {
          "base_uri": "https://localhost:8080/"
        },
        "id": "KKfL-y8NE5SU",
        "outputId": "257ea4c1-e295-4833-9beb-7ef02dd4d1c6"
      },
      "execution_count": null,
      "outputs": [
        {
          "output_type": "stream",
          "name": "stdout",
          "text": [
            "Layer: conv1.weight, Frozen: False\n",
            "Layer: bn1.weight, Frozen: False\n",
            "Layer: bn1.bias, Frozen: False\n",
            "Layer: layer1.0.conv1.weight, Frozen: False\n",
            "Layer: layer1.0.bn1.weight, Frozen: False\n",
            "Layer: layer1.0.bn1.bias, Frozen: False\n",
            "Layer: layer1.0.conv2.weight, Frozen: False\n",
            "Layer: layer1.0.bn2.weight, Frozen: False\n",
            "Layer: layer1.0.bn2.bias, Frozen: False\n",
            "Layer: layer1.0.conv3.weight, Frozen: False\n",
            "Layer: layer1.0.bn3.weight, Frozen: False\n",
            "Layer: layer1.0.bn3.bias, Frozen: False\n",
            "Layer: layer1.0.downsample.0.weight, Frozen: False\n",
            "Layer: layer1.0.downsample.1.weight, Frozen: False\n",
            "Layer: layer1.0.downsample.1.bias, Frozen: False\n",
            "Layer: layer1.1.conv1.weight, Frozen: False\n",
            "Layer: layer1.1.bn1.weight, Frozen: False\n",
            "Layer: layer1.1.bn1.bias, Frozen: False\n",
            "Layer: layer1.1.conv2.weight, Frozen: False\n",
            "Layer: layer1.1.bn2.weight, Frozen: False\n",
            "Layer: layer1.1.bn2.bias, Frozen: False\n",
            "Layer: layer1.1.conv3.weight, Frozen: False\n",
            "Layer: layer1.1.bn3.weight, Frozen: False\n",
            "Layer: layer1.1.bn3.bias, Frozen: False\n",
            "Layer: layer1.2.conv1.weight, Frozen: False\n",
            "Layer: layer1.2.bn1.weight, Frozen: False\n",
            "Layer: layer1.2.bn1.bias, Frozen: False\n",
            "Layer: layer1.2.conv2.weight, Frozen: False\n",
            "Layer: layer1.2.bn2.weight, Frozen: False\n",
            "Layer: layer1.2.bn2.bias, Frozen: False\n",
            "Layer: layer1.2.conv3.weight, Frozen: False\n",
            "Layer: layer1.2.bn3.weight, Frozen: False\n",
            "Layer: layer1.2.bn3.bias, Frozen: False\n",
            "Layer: layer2.0.conv1.weight, Frozen: False\n",
            "Layer: layer2.0.bn1.weight, Frozen: False\n",
            "Layer: layer2.0.bn1.bias, Frozen: False\n",
            "Layer: layer2.0.conv2.weight, Frozen: False\n",
            "Layer: layer2.0.bn2.weight, Frozen: False\n",
            "Layer: layer2.0.bn2.bias, Frozen: False\n",
            "Layer: layer2.0.conv3.weight, Frozen: False\n",
            "Layer: layer2.0.bn3.weight, Frozen: False\n",
            "Layer: layer2.0.bn3.bias, Frozen: False\n",
            "Layer: layer2.0.downsample.0.weight, Frozen: False\n",
            "Layer: layer2.0.downsample.1.weight, Frozen: False\n",
            "Layer: layer2.0.downsample.1.bias, Frozen: False\n",
            "Layer: layer2.1.conv1.weight, Frozen: False\n",
            "Layer: layer2.1.bn1.weight, Frozen: False\n",
            "Layer: layer2.1.bn1.bias, Frozen: False\n",
            "Layer: layer2.1.conv2.weight, Frozen: False\n",
            "Layer: layer2.1.bn2.weight, Frozen: False\n",
            "Layer: layer2.1.bn2.bias, Frozen: False\n",
            "Layer: layer2.1.conv3.weight, Frozen: False\n",
            "Layer: layer2.1.bn3.weight, Frozen: False\n",
            "Layer: layer2.1.bn3.bias, Frozen: False\n",
            "Layer: layer2.2.conv1.weight, Frozen: False\n",
            "Layer: layer2.2.bn1.weight, Frozen: False\n",
            "Layer: layer2.2.bn1.bias, Frozen: False\n",
            "Layer: layer2.2.conv2.weight, Frozen: False\n",
            "Layer: layer2.2.bn2.weight, Frozen: False\n",
            "Layer: layer2.2.bn2.bias, Frozen: False\n",
            "Layer: layer2.2.conv3.weight, Frozen: False\n",
            "Layer: layer2.2.bn3.weight, Frozen: False\n",
            "Layer: layer2.2.bn3.bias, Frozen: False\n",
            "Layer: layer2.3.conv1.weight, Frozen: False\n",
            "Layer: layer2.3.bn1.weight, Frozen: False\n",
            "Layer: layer2.3.bn1.bias, Frozen: False\n",
            "Layer: layer2.3.conv2.weight, Frozen: False\n",
            "Layer: layer2.3.bn2.weight, Frozen: False\n",
            "Layer: layer2.3.bn2.bias, Frozen: False\n",
            "Layer: layer2.3.conv3.weight, Frozen: False\n",
            "Layer: layer2.3.bn3.weight, Frozen: False\n",
            "Layer: layer2.3.bn3.bias, Frozen: False\n",
            "Layer: layer3.0.conv1.weight, Frozen: False\n",
            "Layer: layer3.0.bn1.weight, Frozen: False\n",
            "Layer: layer3.0.bn1.bias, Frozen: False\n",
            "Layer: layer3.0.conv2.weight, Frozen: False\n",
            "Layer: layer3.0.bn2.weight, Frozen: False\n",
            "Layer: layer3.0.bn2.bias, Frozen: False\n",
            "Layer: layer3.0.conv3.weight, Frozen: False\n",
            "Layer: layer3.0.bn3.weight, Frozen: False\n",
            "Layer: layer3.0.bn3.bias, Frozen: False\n",
            "Layer: layer3.0.downsample.0.weight, Frozen: False\n",
            "Layer: layer3.0.downsample.1.weight, Frozen: False\n",
            "Layer: layer3.0.downsample.1.bias, Frozen: False\n",
            "Layer: layer3.1.conv1.weight, Frozen: False\n",
            "Layer: layer3.1.bn1.weight, Frozen: False\n",
            "Layer: layer3.1.bn1.bias, Frozen: False\n",
            "Layer: layer3.1.conv2.weight, Frozen: False\n",
            "Layer: layer3.1.bn2.weight, Frozen: False\n",
            "Layer: layer3.1.bn2.bias, Frozen: False\n",
            "Layer: layer3.1.conv3.weight, Frozen: False\n",
            "Layer: layer3.1.bn3.weight, Frozen: False\n",
            "Layer: layer3.1.bn3.bias, Frozen: False\n",
            "Layer: layer3.2.conv1.weight, Frozen: False\n",
            "Layer: layer3.2.bn1.weight, Frozen: False\n",
            "Layer: layer3.2.bn1.bias, Frozen: False\n",
            "Layer: layer3.2.conv2.weight, Frozen: False\n",
            "Layer: layer3.2.bn2.weight, Frozen: False\n",
            "Layer: layer3.2.bn2.bias, Frozen: False\n",
            "Layer: layer3.2.conv3.weight, Frozen: False\n",
            "Layer: layer3.2.bn3.weight, Frozen: False\n",
            "Layer: layer3.2.bn3.bias, Frozen: False\n",
            "Layer: layer3.3.conv1.weight, Frozen: False\n",
            "Layer: layer3.3.bn1.weight, Frozen: False\n",
            "Layer: layer3.3.bn1.bias, Frozen: False\n",
            "Layer: layer3.3.conv2.weight, Frozen: False\n",
            "Layer: layer3.3.bn2.weight, Frozen: False\n",
            "Layer: layer3.3.bn2.bias, Frozen: False\n",
            "Layer: layer3.3.conv3.weight, Frozen: False\n",
            "Layer: layer3.3.bn3.weight, Frozen: False\n",
            "Layer: layer3.3.bn3.bias, Frozen: False\n",
            "Layer: layer3.4.conv1.weight, Frozen: False\n",
            "Layer: layer3.4.bn1.weight, Frozen: False\n",
            "Layer: layer3.4.bn1.bias, Frozen: False\n",
            "Layer: layer3.4.conv2.weight, Frozen: False\n",
            "Layer: layer3.4.bn2.weight, Frozen: False\n",
            "Layer: layer3.4.bn2.bias, Frozen: False\n",
            "Layer: layer3.4.conv3.weight, Frozen: False\n",
            "Layer: layer3.4.bn3.weight, Frozen: False\n",
            "Layer: layer3.4.bn3.bias, Frozen: False\n",
            "Layer: layer3.5.conv1.weight, Frozen: False\n",
            "Layer: layer3.5.bn1.weight, Frozen: False\n",
            "Layer: layer3.5.bn1.bias, Frozen: False\n",
            "Layer: layer3.5.conv2.weight, Frozen: False\n",
            "Layer: layer3.5.bn2.weight, Frozen: False\n",
            "Layer: layer3.5.bn2.bias, Frozen: False\n",
            "Layer: layer3.5.conv3.weight, Frozen: False\n",
            "Layer: layer3.5.bn3.weight, Frozen: False\n",
            "Layer: layer3.5.bn3.bias, Frozen: False\n",
            "Layer: layer4.0.conv1.weight, Frozen: False\n",
            "Layer: layer4.0.bn1.weight, Frozen: False\n",
            "Layer: layer4.0.bn1.bias, Frozen: False\n",
            "Layer: layer4.0.conv2.weight, Frozen: False\n",
            "Layer: layer4.0.bn2.weight, Frozen: False\n",
            "Layer: layer4.0.bn2.bias, Frozen: False\n",
            "Layer: layer4.0.conv3.weight, Frozen: False\n",
            "Layer: layer4.0.bn3.weight, Frozen: False\n",
            "Layer: layer4.0.bn3.bias, Frozen: False\n",
            "Layer: layer4.0.downsample.0.weight, Frozen: False\n",
            "Layer: layer4.0.downsample.1.weight, Frozen: False\n",
            "Layer: layer4.0.downsample.1.bias, Frozen: False\n",
            "Layer: layer4.1.conv1.weight, Frozen: False\n",
            "Layer: layer4.1.bn1.weight, Frozen: False\n",
            "Layer: layer4.1.bn1.bias, Frozen: False\n",
            "Layer: layer4.1.conv2.weight, Frozen: False\n",
            "Layer: layer4.1.bn2.weight, Frozen: False\n",
            "Layer: layer4.1.bn2.bias, Frozen: False\n",
            "Layer: layer4.1.conv3.weight, Frozen: False\n",
            "Layer: layer4.1.bn3.weight, Frozen: False\n",
            "Layer: layer4.1.bn3.bias, Frozen: False\n",
            "Layer: layer4.2.conv1.weight, Frozen: False\n",
            "Layer: layer4.2.bn1.weight, Frozen: False\n",
            "Layer: layer4.2.bn1.bias, Frozen: False\n",
            "Layer: layer4.2.conv2.weight, Frozen: False\n",
            "Layer: layer4.2.bn2.weight, Frozen: False\n",
            "Layer: layer4.2.bn2.bias, Frozen: False\n",
            "Layer: layer4.2.conv3.weight, Frozen: False\n",
            "Layer: layer4.2.bn3.weight, Frozen: False\n",
            "Layer: layer4.2.bn3.bias, Frozen: False\n",
            "Layer: fc.0.weight, Frozen: False\n",
            "Layer: fc.0.bias, Frozen: False\n"
          ]
        }
      ]
    },
    {
      "cell_type": "code",
      "execution_count": null,
      "metadata": {
        "id": "I4PE2pqctvNT"
      },
      "outputs": [],
      "source": [
        "model = model.to(device)"
      ]
    },
    {
      "cell_type": "code",
      "execution_count": null,
      "metadata": {
        "colab": {
          "base_uri": "https://localhost:8080/"
        },
        "id": "y-n2vmynrzOK",
        "outputId": "9a440129-3a7f-46c2-9eda-1d938179a169"
      },
      "outputs": [
        {
          "output_type": "stream",
          "name": "stdout",
          "text": [
            "------------------ Training Epoch 1 ------------------\n"
          ]
        },
        {
          "output_type": "stream",
          "name": "stderr",
          "text": [
            "Please wait, filling up the shuffle buffer with samples.: 100%|█████████▉| 2.00G/2.00G [00:49<00:00, 43.6MB/s]\n"
          ]
        },
        {
          "output_type": "stream",
          "name": "stdout",
          "text": [
            "Shuffle buffer filling is complete.\n",
            "Training phase completed. Average loss: 1.0984\n",
            "Validation phase completed. Average loss: 1.0866\n",
            "Model saved: /content/drive/MyDrive/SSN_Projekt/Saved_Models/test_v5/Resnet50_epoch_1.pth\n",
            "------------------ Training Epoch 2 ------------------\n",
            "Training phase completed. Average loss: 1.0954\n",
            "Validation phase completed. Average loss: 1.0895\n",
            "Model saved: /content/drive/MyDrive/SSN_Projekt/Saved_Models/test_v5/Resnet50_epoch_2.pth\n",
            "------------------ Training Epoch 3 ------------------\n",
            "Training phase completed. Average loss: 1.0951\n",
            "Validation phase completed. Average loss: 1.0858\n",
            "Model saved: /content/drive/MyDrive/SSN_Projekt/Saved_Models/test_v5/Resnet50_epoch_3.pth\n",
            "------------------ Training Epoch 4 ------------------\n",
            "Training phase completed. Average loss: 1.0942\n",
            "Validation phase completed. Average loss: 1.0861\n",
            "Model saved: /content/drive/MyDrive/SSN_Projekt/Saved_Models/test_v5/Resnet50_epoch_4.pth\n",
            "------------------ Training Epoch 5 ------------------\n",
            "Training phase completed. Average loss: 1.0936\n",
            "Validation phase completed. Average loss: 1.0840\n",
            "Model saved: /content/drive/MyDrive/SSN_Projekt/Saved_Models/test_v5/Resnet50_epoch_5.pth\n",
            "------------------ Training Epoch 6 ------------------\n",
            "Training phase completed. Average loss: 1.0934\n",
            "Validation phase completed. Average loss: 1.0884\n",
            "Model saved: /content/drive/MyDrive/SSN_Projekt/Saved_Models/test_v5/Resnet50_epoch_6.pth\n",
            "------------------ Training Epoch 7 ------------------\n",
            "Training phase completed. Average loss: 1.0934\n",
            "Validation phase completed. Average loss: 1.0850\n",
            "Model saved: /content/drive/MyDrive/SSN_Projekt/Saved_Models/test_v5/Resnet50_epoch_7.pth\n",
            "------------------ Training Epoch 8 ------------------\n",
            "Training phase completed. Average loss: 1.0931\n",
            "Validation phase completed. Average loss: 1.0856\n",
            "Model saved: /content/drive/MyDrive/SSN_Projekt/Saved_Models/test_v5/Resnet50_epoch_8.pth\n",
            "------------------ Training Epoch 9 ------------------\n",
            "Training phase completed. Average loss: 1.0931\n",
            "Validation phase completed. Average loss: 1.0881\n",
            "Model saved: /content/drive/MyDrive/SSN_Projekt/Saved_Models/test_v5/Resnet50_epoch_9.pth\n",
            "------------------ Training Epoch 10 ------------------\n",
            "Training phase completed. Average loss: 1.0931\n",
            "Validation phase completed. Average loss: 1.0837\n",
            "Model saved: /content/drive/MyDrive/SSN_Projekt/Saved_Models/test_v5/Resnet50_epoch_10.pth\n"
          ]
        }
      ],
      "source": [
        "# Training and testing the model\n",
        "\n",
        "num_epochs = 10\n",
        "save_path = \"/content/drive/MyDrive/SSN_Projekt/Saved_Models/test_v5\"\n",
        "model_name = \"Resnet50\"\n",
        "\n",
        "for epoch in range(num_epochs):\n",
        "    print(f\"------------------ Training Epoch {epoch + 1} ------------------\")\n",
        "    train_one_epoch(model, optimizer, criterion, train_loader, val_loader, device)\n",
        "\n",
        "\n",
        "    save_model(model, optimizer, epoch + 1, save_path, model_name)"
      ]
    },
    {
      "cell_type": "code",
      "execution_count": null,
      "metadata": {
        "id": "h6limsjMkk71"
      },
      "outputs": [],
      "source": [
        "# Function to calculate multi-label accuracy\n",
        "def accuracy_multi(inp, targ, thresh=0.5, sigmoid=True):\n",
        "    return ((inp>thresh)==targ.bool()).float().mean()"
      ]
    },
    {
      "cell_type": "code",
      "execution_count": null,
      "metadata": {
        "colab": {
          "base_uri": "https://localhost:8080/"
        },
        "id": "QoSgKVzrldxp",
        "outputId": "477204bf-19c8-437d-f7f9-4803c38fe1b9"
      },
      "outputs": [
        {
          "output_type": "stream",
          "name": "stdout",
          "text": [
            "Model loaded: /content/drive/MyDrive/SSN_Projekt/Saved_Models/test_v5/Resnet50_epoch_5.pth, starting from epoch 5\n"
          ]
        }
      ],
      "source": [
        "load_path = \"/content/drive/MyDrive/SSN_Projekt/Saved_Models/test_v5/Resnet50_epoch_5.pth\"\n",
        "load_model(model, optimizer, load_path, device)"
      ]
    },
    {
      "cell_type": "code",
      "execution_count": null,
      "metadata": {
        "colab": {
          "base_uri": "https://localhost:8080/",
          "height": 472
        },
        "id": "NIoPKiIukdik",
        "outputId": "ecbd5d8d-52be-40ec-f416-a9f48a4d1bf3"
      },
      "outputs": [
        {
          "output_type": "display_data",
          "data": {
            "text/plain": [
              "<Figure size 640x480 with 1 Axes>"
            ],
            "image/png": "[encoded data removed]"
          },
          "metadata": {}
        }
      ],
      "source": [
        "# Set your model to evaluation mode\n",
        "model.eval()\n",
        "\n",
        "# Containers to store predictions and true labels\n",
        "all_preds = torch.tensor([]).to(device)\n",
        "all_targs = torch.tensor([]).to(device)\n",
        "\n",
        "# Go through the train_loader\n",
        "with torch.no_grad():\n",
        "    for data, target in test_loader:\n",
        "        data, target = data.to(device), target.to(device)\n",
        "        output = model(data)\n",
        "        all_preds = torch.cat((all_preds, output), dim=0)\n",
        "        all_targs = torch.cat((all_targs, target), dim=0)\n",
        "\n",
        "# Calculate accuracies for different thresholds\n",
        "thresholds = torch.linspace(0.05, 0.95, 29).cpu().numpy()  # Convert to numpy array\n",
        "accuracies = [accuracy_multi(all_preds.sigmoid(), all_targs, thresh=i).cpu().numpy() for i in thresholds]  # Convert to numpy array\n",
        "\n",
        "# Plot the accuracies\n",
        "plt.plot(thresholds, accuracies)\n",
        "plt.xlabel(\"Threshold\")\n",
        "plt.ylabel(\"Accuracy\")\n",
        "plt.title(\"Accuracy for different thresholds\")\n",
        "plt.show()"
      ]
    },
    {
      "cell_type": "code",
      "execution_count": null,
      "metadata": {
        "id": "gNLIKD0slrLn"
      },
      "outputs": [],
      "source": [
        "thresh = 0.5"
      ]
    },
    {
      "cell_type": "code",
      "execution_count": null,
      "metadata": {
        "colab": {
          "base_uri": "https://localhost:8080/"
        },
        "id": "VlJXc-OQj_7B",
        "outputId": "fa9b7a1f-d2b0-488b-e6ac-f6ffb7bfa4e7"
      },
      "outputs": [
        {
          "output_type": "stream",
          "name": "stdout",
          "text": [
            "Val accuracy: 0.9034562706947327\n"
          ]
        }
      ],
      "source": [
        "model.eval()\n",
        "all_preds = []\n",
        "all_labels = []\n",
        "\n",
        "with torch.no_grad():\n",
        "    for inputs, labels in test_loader:\n",
        "        inputs, labels = inputs.to(device), labels.to(device)\n",
        "        outputs = model(inputs)\n",
        "        all_preds.append(outputs)\n",
        "        all_labels.append(labels)\n",
        "\n",
        "all_preds = torch.cat(all_preds, dim=0)\n",
        "all_labels = torch.cat(all_labels, dim=0)\n",
        "\n",
        "val_accuracy = accuracy_multi(all_preds.sigmoid(), all_labels, thresh).item()\n",
        "print(f\"Val accuracy: {val_accuracy}\")"
      ]
    },
    {
      "cell_type": "code",
      "execution_count": null,
      "metadata": {
        "colab": {
          "base_uri": "https://localhost:8080/",
          "height": 995
        },
        "id": "aYjrhL0ontQ0",
        "outputId": "1eba367a-cd8d-4ecf-d7e2-194cdda96130"
      },
      "outputs": [
        {
          "output_type": "stream",
          "name": "stdout",
          "text": [
            "ROC AUC for label 0: 0.5\n",
            "ROC AUC for label 1: 0.5\n",
            "ROC AUC for label 2: 0.5\n",
            "ROC AUC for label 3: 0.5\n",
            "ROC AUC for label 4: 0.5\n",
            "ROC AUC for label 5: 0.5\n",
            "ROC AUC for label 6: 0.5\n",
            "ROC AUC for label 7: 0.5\n",
            "ROC AUC for label 8: 0.5\n",
            "ROC AUC for label 9: 0.5\n",
            "ROC AUC for label 10: 0.5\n",
            "ROC AUC for label 11: 0.5\n",
            "ROC AUC for label 12: 0.5\n",
            "ROC AUC for label 13: 0.5\n",
            "ROC AUC for label 14: 0.5\n"
          ]
        },
        {
          "output_type": "display_data",
          "data": {
            "text/plain": [
              "<Figure size 1000x800 with 1 Axes>"
            ],
            "image/png": "[encoded data removed]"
          },
          "metadata": {}
        }
      ],
      "source": [
        "import torch\n",
        "import matplotlib.pyplot as plt\n",
        "from sklearn.metrics import roc_auc_score, roc_curve\n",
        "\n",
        "# Assuming that you have the test_loader and the resnet50 model defined\n",
        "model.eval()\n",
        "#all_preds = []\n",
        "#all_labels = []\n",
        "\n",
        "#with torch.no_grad():\n",
        "#    for inputs, labels in test_loader:\n",
        "#        inputs, labels = inputs.to(device), labels.to(device)\n",
        "#        outputs = model(inputs)\n",
        "#        all_preds.append(outputs.sigmoid())  # Convert to probabilities\n",
        "#        all_labels.append(labels)\n",
        "\n",
        "#all_preds = torch.cat(all_preds, dim=0)\n",
        "#all_labels = torch.cat(all_labels, dim=0)\n",
        "\n",
        "# Concatenate the results\n",
        "all_preds = all_preds.cpu().numpy()\n",
        "all_labels = all_labels.cpu().numpy()\n",
        "\n",
        "# Calculate and print the ROC AUC for each label, and plot the ROC curve\n",
        "num_labels = all_labels.shape[1]\n",
        "plt.figure(figsize=(10, 8))\n",
        "\n",
        "for label_index in range(num_labels):\n",
        "    try:\n",
        "        auc_score = roc_auc_score(all_labels[:, label_index], all_preds[:, label_index])\n",
        "        print(f'ROC AUC for label {label_index}: {auc_score}')\n",
        "\n",
        "        fpr, tpr, _ = roc_curve(all_labels[:, label_index], all_preds[:, label_index])\n",
        "        plt.plot(fpr, tpr, label=f'Label {label_index} (AUC = {auc_score:.2f})')\n",
        "    except ValueError:\n",
        "        # This error can occur if there is no positive class present in the labels,\n",
        "        # which means that the ROC AUC score is not defined for this batch.\n",
        "        print(f'ROC AUC for label {label_index}: Not Defined (No positive examples in labels)')\n",
        "\n",
        "plt.plot([0, 1], [0, 1], color='gray', linestyle='--', label='Random Guess')\n",
        "plt.xlabel('False Positive Rate')\n",
        "plt.ylabel('True Positive Rate')\n",
        "plt.title('ROC Curves')\n",
        "plt.legend(loc=\"lower right\")\n",
        "plt.show()"
      ]
    },
    {
      "cell_type": "code",
      "execution_count": null,
      "metadata": {
        "id": "ZslwJNzCpKlL"
      },
      "outputs": [],
      "source": [
        "$0p"
      ]
    }
  ],
  "metadata": {
    "accelerator": "GPU",
    "colab": {
      "machine_shape": "hm",
      "provenance": [],
      "gpuType": "T4"
    },
    "kernelspec": {
      "display_name": "Python 3",
      "name": "python3"
    },
    "language_info": {
      "name": "python"
    }
  },
  "nbformat": 4,
  "nbformat_minor": 0
}